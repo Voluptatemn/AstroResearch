{
 "cells": [
  {
   "cell_type": "code",
   "execution_count": null,
   "metadata": {},
   "outputs": [],
   "source": [
    "# f = (f' - B - d * t) / med (f' - b - d * t)\n",
    "# D = D' - B\n",
    "# B = B' + Berr"
   ]
  },
  {
   "cell_type": "code",
   "execution_count": null,
   "metadata": {},
   "outputs": [],
   "source": [
    "# import numpy as np\n",
    "# import matplotlib.pyplot as plt\n",
    "# from scipy.optimize import curve_fit"
   ]
  },
  {
   "cell_type": "code",
   "execution_count": null,
   "metadata": {},
   "outputs": [],
   "source": [
    "# # parameters\n",
    "# # gain electrons per adu\n",
    "# g = 3.6\n",
    "# # dimension \n",
    "# row = 2048\n",
    "# column = 2048\n",
    "# # bias levels \n",
    "# # real bias level count per pixel \n",
    "# bias_real_level = 300\n",
    "# # the systematic readout error on the bias\n",
    "# readnoise = 5\n",
    "# # assumed bias level \n",
    "# # float up to factor \n",
    "# factor = 2 \n",
    "# bias_meas_array = np.linspace(bias_real_level/factor, bias_real_level*factor)\n",
    "# # bias_meas_array = [bias_real_level]\n",
    "# # dark\n",
    "# # dark current elec per sec\n",
    "# d = 0.05\n",
    "# # time dark exposure\n",
    "# td = 60\n",
    "# # flat counts per pixel \n",
    "# f = 10000\n",
    "# # time flat exposure \n",
    "# tf_array = np.linspace(3, 120)"
   ]
  },
  {
   "cell_type": "code",
   "execution_count": null,
   "metadata": {},
   "outputs": [],
   "source": [
    "# para_dict = {\n",
    "#     'bias_level': 300,\n",
    "#     'row': 2048,\n",
    "#     'column': 2048,\n",
    "#     'g': 3.6,\n",
    "#     'readnoise': 5,\n",
    "#     'd': 0.05,\n",
    "#     'td': 60,\n",
    "#     'f': 10000,\n",
    "#     'tf_array': np.linspace(3, 120)   \n",
    "# }"
   ]
  },
  {
   "cell_type": "code",
   "execution_count": null,
   "metadata": {},
   "outputs": [],
   "source": [
    "# function making a bias based on a given bias input\n",
    "# normal distributed \n",
    "# output: 2d bias level in counts per pixel \n",
    "# def makeBias(bias_level,size=(row,column),readnoise=5,debug=False):\n",
    "#     bias = np.random.normal(bias_level, readnoise, size)\n",
    "#     return bias"
   ]
  },
  {
   "cell_type": "code",
   "execution_count": null,
   "metadata": {},
   "outputs": [],
   "source": [
    "# def makeDarkCounts(td=60,d=0.05,size=(row,column),debug=False,g=3.6):\n",
    "#     dark_counts = np.random.poisson(d*td, size) / g \n",
    "#     return dark_counts"
   ]
  },
  {
   "cell_type": "code",
   "execution_count": null,
   "metadata": {},
   "outputs": [],
   "source": [
    "# # dark function based on a given bias input\n",
    "# # possion distributed\n",
    "# # output: 2d dark current in counts per sec per pixel \n",
    "# def makeDark(bias_level,td=60,d=0.05,size=(row,column),debug=False,g=3.6):\n",
    "#     dark = makeDarkCounts(td=td,d=d,size=size,debug=debug,g=g) + \\\n",
    "#                               makeBias(bias_level,size=size,debug=debug)\n",
    "#     return dark    "
   ]
  },
  {
   "cell_type": "code",
   "execution_count": null,
   "metadata": {},
   "outputs": [],
   "source": [
    "# # flat function \n",
    "# # possion distributed \n",
    "# # output: 2d raw flat level in counts per pixel \n",
    "# def makeRawFlat(bias_level,debug=False,g=3.6,\n",
    "#                 f=15000,size=(row,column)):\n",
    "#     flat = makeBias(bias_level) + np.random.poisson(f, size)\n",
    "#     return flat"
   ]
  },
  {
   "cell_type": "code",
   "execution_count": null,
   "metadata": {},
   "outputs": [],
   "source": [
    "# # calibrated flat function \n",
    "# # output: 2d calibrated flat level in counts per pixel \n",
    "# def makeCaliFlat(bias, dark, raw_flat, tf=3, td=60, debug = False):\n",
    "#     caliFlat = (raw_flat - dark / td * tf - bias) / np.median(raw_flat - dark / td * tf - bias)\n",
    "#     return caliFlat "
   ]
  },
  {
   "cell_type": "code",
   "execution_count": null,
   "metadata": {},
   "outputs": [],
   "source": [
    "# import numpy as np\n",
    "# import matplotlib.pyplot as plt\n",
    "\n",
    "# def generate_custom_gaussian_circle(resolution, center_value, sigma, edge_value):\n",
    "#     center_x, center_y = resolution / 2, resolution / 2\n",
    "#     grid = np.zeros((resolution, resolution))\n",
    "    \n",
    "#     for x in range(resolution):\n",
    "#         for y in range(resolution):\n",
    "#             distance = np.sqrt((x - center_x)**2 + (y - center_y)**2)\n",
    "#             # Calculate the Gaussian-like value with a custom mean\n",
    "#             value = (np.random.normal(300, 5) + np.random.poisson(center_value)) * np.exp(-0.5 * (distance / sigma)**2) \n",
    "            \n",
    "#             # Clamp values to be within [edge_value, center_value]\n",
    "#             # value = max(edge_value, min(center_value, value))\n",
    "            \n",
    "#             # Assign the value to the grid\n",
    "#             grid[x, y] = value\n",
    "    \n",
    "#     return grid\n",
    "\n",
    "# resolution = 2048\n",
    "# center_value = 15000  # Adjust this value for the center peak\n",
    "# edge_value = 0   # Adjust this value for the edge\n",
    "# sigma = 4000          # Adjust this value to control the spread of values\n",
    "\n",
    "# custom_gaussian_circle = generate_custom_gaussian_circle(resolution, center_value, sigma, edge_value)\n",
    "# display(np.mean(custom_gaussian_circle))\n",
    "\n",
    "# plt.imshow(custom_gaussian_circle, cmap='viridis')\n",
    "# plt.colorbar()\n",
    "# plt.show()\n",
    "\n"
   ]
  },
  {
   "cell_type": "code",
   "execution_count": null,
   "metadata": {},
   "outputs": [],
   "source": [
    "# def systematic_deviation(bias_level, time = 1, tf_array = tf_array, debug = False):\n",
    "#     # see the error with same bias \n",
    "#     percent_change_in_flat_array = []\n",
    "#     percent_change_in_flat_array_std = []\n",
    "#     tf_plot_array = []\n",
    "#     for tf in tf_array:\n",
    "#         percent_change_in_flat_array_storage = []\n",
    "#         for i in range(time):\n",
    "#             bias_real_1 = makeBias(bias_level)\n",
    "#             dark_real_1 = makeDark(bias_level)\n",
    "#             flat_raw_1 = makeRawFlat(bias_level, tf)\n",
    "#             flat_real_1 = makeCaliFlat(bias_real_1, dark_real_1, flat_raw_1, tf)\n",
    "#             bias_real = makeBias(bias_level)\n",
    "#             dark_real = makeDark(bias_level)\n",
    "#             flat_raw = makeRawFlat(bias_level, tf)\n",
    "#             flat_real = makeCaliFlat(bias_real, dark_real, flat_raw, tf)\n",
    "#             deltaf = np.abs(flat_real - flat_real_1)\n",
    "#             # flat percent change in a mean form \n",
    "#             percent_change_in_flat = np.mean(deltaf / flat_real_1 * 100)\n",
    "#             percent_change_in_flat_array_storage.append(percent_change_in_flat)\n",
    "#         mean = np.mean(percent_change_in_flat_array_storage)\n",
    "#         std = np.std(percent_change_in_flat_array_storage)\n",
    "#         percent_change_in_flat_array.append(mean)\n",
    "#         percent_change_in_flat_array_std.append(std)\n",
    "#         tf_plot_array.append(tf)\n",
    "#     plt.scatter(tf_plot_array, percent_change_in_flat_array)\n",
    "#     plt.errorbar(tf_plot_array, percent_change_in_flat_array,\n",
    "#                 yerr = percent_change_in_flat_array_std,\n",
    "#                 fmt ='o')\n",
    "#     plt.xlabel('TF changes')\n",
    "#     plt.ylabel('Flat changes perc')\n",
    "#     plt.show()\n",
    "    "
   ]
  },
  {
   "cell_type": "code",
   "execution_count": 61,
   "metadata": {},
   "outputs": [],
   "source": [
    "#----------------------------------------------------------------------\n",
    "# Overall concept\n",
    "#----------------------------------------------------------------------\n",
    "\n",
    "# f = (f' - B - d * t) / med (f' - b - d * t)\n",
    "# D = D' - B\n",
    "# B = B' + Berr\n",
    "#\n",
    "\n",
    "#----------------------------------------------------------------------\n",
    "\n",
    "# modelues using versions on bellerophon\n",
    "import numpy as np\n",
    "import matplotlib.pyplot as plt\n",
    "# from quick_image import *\n",
    "from scipy.optimize import curve_fit\n",
    "\n",
    "#----------------------------------------------------------------------\n",
    "\n",
    "# default parameters\n",
    "# ccd dimension (pixels)\n",
    "row = 2048\n",
    "column = 2048\n",
    "# gain of the camera (electron per adu)\n",
    "g = 0.95\n",
    "# bias levels \n",
    "# real bias level (count per pixel)\n",
    "bias_real_level = 300\n",
    "# assumed bias level \n",
    "# float up to factor \n",
    "factor = 2 \n",
    "bias_meas_array = np.linspace(bias_real_level/factor, bias_real_level*factor)\n",
    "# bias read out noise (counts per pixel)\n",
    "readnoise = 15\n",
    "# dark \n",
    "# dark current (electrons per second per pixel)\n",
    "d = 0.05\n",
    "# dark exposure time (sec)\n",
    "td = 60\n",
    "# flat \n",
    "# flat (counts per pixel)\n",
    "f = 15000\n",
    "# time flat exposure (sec)\n",
    "tf_array = np.linspace(3, 120)\n",
    "\n",
    "\n",
    "#----------------------------------------------------------------------\n",
    "# bias, dark, and flat simulation frame\n",
    "\n",
    "\n",
    "#----------------------------------------------------------------------\n",
    "# function making a bias based on a given bias input \n",
    "# default para\n",
    "# size, readnoise, and debug util\n",
    "# input, bias_level (counts per pixel)\n",
    "# bias level normally distributed \n",
    "# output: 2d bias level in counts per pixel\n",
    "def makeBias(bias_level,size=(row,column),readnoise=readnoise,debug=False):\n",
    "    bias = np.random.normal(bias_level, readnoise, size)\n",
    "    if debug:\n",
    "        display_image(bias,siglo=0.5,sighi=0.5,fignum=1)\n",
    "        plt.colorbar()\n",
    "    return bias\n",
    "\n",
    "#----------------------------------------------------------------------\n",
    "# fucntion making the raw dark counts \n",
    "# default para\n",
    "# size, debug until, gain (g), time for dark exposure (td), and dark current (d)\n",
    "# possion distributed\n",
    "# output: 2d dark current in counts per pixel \n",
    "def makeDarkCounts(td=td,d=d,size=(row,column),debug=False,g=g):\n",
    "    dark_counts = np.random.poisson(d*td, size) / g \n",
    "    if debug:\n",
    "        display_image(dark_counts,siglo=0.5,sighi=0.5,fignum=2)\n",
    "        plt.colorbar()\n",
    "    return dark_counts\n",
    "\n",
    "# function making the dark counts with the bias level based on a given bias input \n",
    "# default para\n",
    "# time for dark exposure (td), dark curent (d), size, debug until, gain (g)\n",
    "# input bias level (counts per pixel)\n",
    "# calls the makeDarkCountrs function \n",
    "# output 2d true dark current in counts per pixel \n",
    "def makeDark(bias_level,td=td,d=d,size=(row,column),debug=False,g=g):\n",
    "    dark = makeDarkCounts(td=td,d=d,size=size,debug=debug,g=g) + makeBias(bias_level,size=size,debug=debug)\n",
    "    if debug:\n",
    "        display_image(dark,siglo=0.5,sighi=0.5,fignum=3)\n",
    "        plt.colorbar()\n",
    "    return dark     \n",
    "\n",
    "\n",
    "#----------------------------------------------------------------------\n",
    "# function making the flat frame counts given a bias level input \n",
    "# default para\n",
    "# flat counts (f), debug util, gain (g), size \n",
    "# input, bias level (counts per pixel)\n",
    "# possion distributed \n",
    "# output: 2d raw flat level in counts per pixel \n",
    "def makeRawFlat(bias_level,debug=False,g=g,\n",
    "                f=f,size=(row,column)):\n",
    "    flat = makeBias(bias_level) + np.random.poisson(f, size)\n",
    "    if debug:\n",
    "        display_image(flat,siglo=0.5,sighi=0.5,fignum=4)\n",
    "        plt.colorbar()\n",
    "    return flat\n",
    "\n",
    "\n",
    "# flat function with Gaussian circle\n",
    "# added default para, sigma = determines how quick it is going to drop from the center\n",
    "# To do: decrease run time\n",
    "def makeRawGaussianFlat(bias_level,readnoise = readnoise, debug=False,g=g,\n",
    "                f=f,size=(row,column), sigma = 4000):\n",
    "    center = (size[0] // 2, size[1] // 2)  \n",
    "    x, y = np.meshgrid(np.arange(size[0]), np.arange(size[1]))\n",
    "\n",
    "    # Calculate the distances from the center using vectorized operations\n",
    "    distance = np.sqrt((x - center[0])**2 + (y - center[1])**2)\n",
    "\n",
    "    # Calculate the Gaussian values using vectorized operations\n",
    "    flat = np.exp(-distance**2 / (2 * sigma**2)) * (np.random.normal(bias_level, readnoise) + np.random.poisson(f))\n",
    "            \n",
    "    if debug:\n",
    "        display_image(flat, siglo = 0.5, sighi = 0.5, fignum = 4)\n",
    "        plt.colorbar()\n",
    "    return flat\n",
    "\n",
    "#----------------------------------------------------------------------\n",
    "# calibrated flat function \n",
    "# output: 2d calibrated flat level in counts per pixel \n",
    "# be looked at gaiz\n",
    "def makeCaliFlatAll(bias_level, bias_real_level = bias_real_level, d = d, f = f, tf=3, td=td, debug = False, size = (row, column), g = g, sigma = 4000):\n",
    "    bias = makeBias(bias_level, debug = debug, size = size) \n",
    "    dark = makeDark(bias_level, d = d, td = td, size = size, debug = debug, g = g)\n",
    "    raw_flat = makeRawGaussianFlat(bias_level, g = g, debug = debug, f = f, size = size, sigma = sigma)\n",
    "    caliFlat = (raw_flat - dark / td * tf - bias) / np.median(raw_flat - dark / td * tf - bias)\n",
    "    if debug:\n",
    "        display_image(caliFlat,siglo=0.5,sighi=0.5,fignum=5)\n",
    "        plt.colorbar()\n",
    "    return caliFlat \n",
    "\n",
    "# calibrated flat function \n",
    "# output: 2d calibrated flat level in counts per pixel \n",
    "def makeCaliFlat(bias, dark, raw_flat, tf=3, td=60, debug = False):\n",
    "    caliFlat = (raw_flat - dark / td * tf - bias) / np.median(raw_flat - dark / td * tf - bias)\n",
    "    return caliFlat \n",
    "\n",
    "def makeCaliFlat_master(bias_level, bias_real_level = bias_real_level, d = d, f = f, tf=3, td=td, debug = False, size = (row, column), g = g, times = 30):\n",
    "    caliFlat = 0\n",
    "    for t in range(times):\n",
    "        caliFlat += makeCaliFlatAll(bias_level=bias_level, bias_real_level = bias_real_level, d = d, f = f, tf=tf, td=td, debug = False, size = (row, column), g = g)\n",
    "    caliFlat /= times\n",
    "    if debug:\n",
    "        display_image(caliFlat,siglo=0.5,sighi=0.5,fignum=6)\n",
    "        plt.colorbar()\n",
    "    return caliFlat"
   ]
  },
  {
   "cell_type": "code",
   "execution_count": 64,
   "metadata": {},
   "outputs": [],
   "source": [
    "f = makeCaliFlat_master(300)\n"
   ]
  },
  {
   "cell_type": "code",
   "execution_count": 69,
   "metadata": {},
   "outputs": [
    {
     "data": {
      "text/plain": [
       "<matplotlib.collections.PathCollection at 0x2b7581610>"
      ]
     },
     "execution_count": 69,
     "metadata": {},
     "output_type": "execute_result"
    },
    {
     "data": {
      "image/png": "[encoded data removed]",
      "text/plain": [
       "<Figure size 640x480 with 1 Axes>"
      ]
     },
     "metadata": {},
     "output_type": "display_data"
    }
   ],
   "source": [
    "import numpy as np\n",
    "from scipy import stats\n",
    "\n",
    "# run anaylsis to see the deviation \n",
    "def leastAcceptableBias(MaxFlatChangePer = 0.001, start = 300, end = 600, step = 50, debug = False, all = False):\n",
    "    output = {\n",
    "        'bias': [],\n",
    "        'df_mean': [],\n",
    "        'df_std': [],\n",
    "        'z_score': [],\n",
    "        'p_value': [],\n",
    "    }\n",
    "    if all:\n",
    "        f300 = makeCaliFlat_master(300)\n",
    "    else:\n",
    "        f300 = makeCaliFlatAll(300)\n",
    "    for i in range (start, end, step):\n",
    "        if all:\n",
    "            f = makeCaliFlat_master(i)\n",
    "        else:\n",
    "            f = makeCaliFlatAll(i)\n",
    "        df = (f - f300) / f300 * 100\n",
    "        df_mean = np.mean(df)  \n",
    "        df_std = np.std(df)\n",
    "        z_score = (MaxFlatChangePer - df_mean) / df_std\n",
    "        p_value = 2 * (1 - stats.norm.cdf(np.abs(z_score)))\n",
    "        output['bias'].append(i)\n",
    "        output['df_mean'].append(df_mean)\n",
    "        output['df_std'].append(df_std)\n",
    "        output['z_score'].append(z_score)\n",
    "        output['p_value'].append(p_value)\n",
    "        if p_value < 0.05:\n",
    "            return output['bias']\n",
    "    return output\n",
    "\n",
    "output = leastAcceptableBias(MaxFlatChangePer = 0.001, start = 300, end = 600, step = 10, all = True)\n",
    "plt.scatter(output['bias'], output['df_mean'])\n",
    "\n",
    "        \n",
    "\n"
   ]
  },
  {
   "cell_type": "code",
   "execution_count": null,
   "metadata": {},
   "outputs": [],
   "source": [
    "def linear_func(x, a, b):\n",
    "    return a * x + b"
   ]
  },
  {
   "cell_type": "code",
   "execution_count": 47,
   "metadata": {},
   "outputs": [],
   "source": [
    "def comparison(bias1, bias2, debug = False, hist = True):\n",
    "    f1 = makeCaliFlat_master(bias1, debug = debug)\n",
    "    f2 = makeCaliFlat_master(bias2, debug = debug)\n",
    "    df = (f2 - f1) / f1 * 100 \n",
    "    mean = np.mean(df)\n",
    "    std = np.std(df)\n",
    "\n",
    "    if debug:\n",
    "        display_image(df, siglo = 0.5, sighi = 0.5, fignum = 7)\n",
    "        plt.colorbar()\n",
    "    if hist:\n",
    "        fig, ax = plt.subplots()\n",
    "        ax.hist(df.flatten(), bins = 20)\n",
    "        # Show plot\n",
    "        plt.show()  \n",
    "    return mean, std"
   ]
  },
  {
   "cell_type": "code",
   "execution_count": 48,
   "metadata": {},
   "outputs": [
    {
     "data": {
      "image/png": "[encoded data removed]",
      "text/plain": [
       "<Figure size 640x480 with 1 Axes>"
      ]
     },
     "metadata": {},
     "output_type": "display_data"
    }
   ],
   "source": [
    "mean, std = comparison(300, 600)"
   ]
  },
  {
   "cell_type": "code",
   "execution_count": null,
   "metadata": {},
   "outputs": [],
   "source": [
    "popt, pcov = curve_fit(linear_func, df['bias'], df['df_mean'])"
   ]
  },
  {
   "cell_type": "code",
   "execution_count": null,
   "metadata": {},
   "outputs": [],
   "source": [
    "pred_flat_change = linear_func(np.linspace(300, 600, 10), *popt)"
   ]
  },
  {
   "cell_type": "code",
   "execution_count": null,
   "metadata": {},
   "outputs": [],
   "source": [
    "plt.scatter(np.linspace(300, 600, 10), pred_flat_change)"
   ]
  },
  {
   "cell_type": "code",
   "execution_count": 51,
   "metadata": {},
   "outputs": [
    {
     "data": {
      "text/plain": [
       "-0.012133375865839329"
      ]
     },
     "metadata": {},
     "output_type": "display_data"
    },
    {
     "data": {
      "text/plain": [
       "0.12606448751914373"
      ]
     },
     "metadata": {},
     "output_type": "display_data"
    },
    {
     "data": {
      "image/png": "[encoded data removed]",
      "text/plain": [
       "<Figure size 640x480 with 1 Axes>"
      ]
     },
     "metadata": {},
     "output_type": "display_data"
    }
   ],
   "source": [
    "f300_2 = makeCaliFlat_master(300)\n",
    "f600 = makeCaliFlat_master(600)\n",
    "df = (f600 - f300_2) / f300_2 * 100 \n",
    "mean = np.mean(df)\n",
    "std = np.std(df)\n",
    "display(mean, std)\n",
    "# Creating histogram\n",
    "fig, ax = plt.subplots()\n",
    "ax.hist(df.flatten(), bins = 20)\n",
    " \n",
    "# Show plot\n",
    "plt.show()"
   ]
  },
  {
   "cell_type": "code",
   "execution_count": 52,
   "metadata": {},
   "outputs": [
    {
     "data": {
      "text/plain": [
       "-0.0003291218379111167"
      ]
     },
     "metadata": {},
     "output_type": "display_data"
    },
    {
     "data": {
      "text/plain": [
       "0.028308911939476437"
      ]
     },
     "metadata": {},
     "output_type": "display_data"
    },
    {
     "data": {
      "image/png": "[encoded data removed]",
      "text/plain": [
       "<Figure size 640x480 with 1 Axes>"
      ]
     },
     "metadata": {},
     "output_type": "display_data"
    }
   ],
   "source": [
    "f300_2 = makeCaliFlat_master(300)\n",
    "f600 = makeCaliFlat_master(300)\n",
    "df = (f600 - f300_2) / f300_2 * 100 \n",
    "mean = np.mean(df)\n",
    "std = np.std(df)\n",
    "display(mean, std)\n",
    "# Creating histogram\n",
    "fig, ax = plt.subplots()\n",
    "ax.hist(df.flatten(), bins = 20)\n",
    " \n",
    "# Show plot\n",
    "plt.show()\n"
   ]
  },
  {
   "cell_type": "code",
   "execution_count": null,
   "metadata": {},
   "outputs": [],
   "source": []
  },
  {
   "cell_type": "code",
   "execution_count": null,
   "metadata": {},
   "outputs": [],
   "source": [
    "f300_2 = makeCaliFlatAll(300)\n",
    "f600 = makeCaliFlatAll(300)\n",
    "df = (f600 - f300_2) / f300_2 * 100 \n",
    "mean = np.mean(df)\n",
    "std = np.std(df)\n",
    "display(mean, std)\n",
    "# Creating histogram\n",
    "fig, ax = plt.subplots()\n",
    "ax.hist(df.flatten(), bins = 20)\n",
    " \n",
    "# Show plot\n",
    "plt.show()"
   ]
  },
  {
   "cell_type": "code",
   "execution_count": null,
   "metadata": {},
   "outputs": [],
   "source": [
    "import numpy as np\n",
    "from scipy import stats\n",
    "\n",
    "# Define your data and parameters\n",
    "sample_data = [98, 101, 105, 97, 102, 99, 100, 103, 98, 104]  # Sample data\n",
    "sample_mean = np.mean(sample_data)  # Sample mean\n",
    "sample_std = np.std(sample_data, ddof=1)  # Sample standard deviation\n",
    "value_to_compare = 100.5  # Value to compare to\n",
    "alpha = 0.05  # Significance level\n",
    "\n",
    "# Perform a one-tailed t-test\n",
    "t_statistic, p_value = stats.ttest_1samp(sample_data, value_to_compare)\n",
    "\n",
    "# Calculate the degrees of freedom\n",
    "degrees_of_freedom = len(sample_data) - 1\n",
    "\n",
    "# Calculate the critical t-value for a one-tailed test (right-tail)\n",
    "critical_t_value = stats.t.ppf(1 - alpha, df=degrees_of_freedom)\n",
    "\n",
    "# Calculate the confidence interval\n",
    "margin_of_error = critical_t_value * (sample_std / np.sqrt(len(sample_data)))\n",
    "confidence_interval = (sample_mean - margin_of_error, sample_mean + margin_of_error)\n",
    "\n",
    "# Determine the result based on the p-value and alpha\n",
    "if p_value < alpha:\n",
    "    result = \"Reject null hypothesis\"\n",
    "else:\n",
    "    result = \"Fail to reject null hypothesis\"\n",
    "\n",
    "# Print the results\n",
    "print(\"T-Test Results:\")\n",
    "print(f\"t-statistic: {t_statistic}\")\n",
    "print(f\"P-Value: {p_value}\")\n",
    "print(f\"Confidence Interval: {confidence_interval}\")\n",
    "print(f\"Result: {result}\")\n",
    "\n"
   ]
  },
  {
   "cell_type": "code",
   "execution_count": null,
   "metadata": {},
   "outputs": [],
   "source": [
    "import numpy as np\n",
    "import matplotlib.pyplot as plt\n",
    "\n",
    "# Define the parameters\n",
    "size = 2048\n",
    "center = (size // 2, size // 2)\n",
    "sigma = 5000\n",
    "\n",
    "# Create a grid of x and y coordinates\n",
    "x, y = np.meshgrid(np.arange(size), np.arange(size))\n",
    "\n",
    "# Calculate the distances from the center using vectorized operations\n",
    "distance = np.sqrt((x - center[0])**2 + (y - center[1])**2)\n",
    "display(distance)\n",
    "\n",
    "# Calculate the Gaussian values using vectorized operations\n",
    "grid = np.exp(-distance**2 / (2 * sigma**2)) * (np.random.normal(300, 15) + np.random.poisson(f))\n",
    "\n",
    "# # Normalize the values\n",
    "# grid /= grid.max()\n",
    "\n",
    "# Plot the result\n",
    "plt.imshow(grid, cmap='viridis', origin='lower', extent=(0, size, 0, size))\n",
    "plt.colorbar()\n",
    "plt.show()\n"
   ]
  },
  {
   "cell_type": "code",
   "execution_count": null,
   "metadata": {},
   "outputs": [],
   "source": [
    "import numpy as np\n",
    "import matplotlib.pyplot as plt\n",
    "\n",
    "# Define the parameters\n",
    "size = 2048  # Size of the grid\n",
    "center = (size // 2, size // 2)  # Center of the circle\n",
    "sigma = 20  # Standard deviation for the Gaussian distribution\n",
    "\n",
    "# Create an empty grid\n",
    "grid = np.zeros((size, size))\n",
    "\n",
    "# Fill the grid with Gaussian values\n",
    "for x in range(size):\n",
    "    for y in range(size):\n",
    "        distance = np.sqrt((x - center[0])**2 + (y - center[1])**2)\n",
    "        grid[x, y] = np.exp(-distance**2 / (2 * sigma**2))\n",
    "\n",
    "# Normalize the values to make the center the highest value\n",
    "grid /= grid.max()\n",
    "\n",
    "# Plot the result\n",
    "plt.imshow(grid, cmap='viridis', origin='lower', extent=(0, size, 0, size))\n",
    "plt.colorbar()\n",
    "plt.show()\n"
   ]
  },
  {
   "cell_type": "code",
   "execution_count": null,
   "metadata": {},
   "outputs": [],
   "source": [
    "def func(xy, a, b, c, d, e, f):\n",
    "    x, y = xy\n",
    "    return a + b*x + c*y + d*x**2 + e*y**2 + f*x*y"
   ]
  },
  {
   "cell_type": "code",
   "execution_count": null,
   "metadata": {},
   "outputs": [],
   "source": [
    "flat_meas = makeCaliFlatAll(100)"
   ]
  },
  {
   "cell_type": "code",
   "execution_count": null,
   "metadata": {},
   "outputs": [],
   "source": [
    "def propagation(bias_real_level = bias_real_level, bias_meas_array = bias_meas_array, tf_array = tf_array, debug = False, abs = False):\n",
    "    # prop storage array\n",
    "    percent_change_in_bias_array = []\n",
    "    percent_change_in_flat_array = []\n",
    "    tf_plot_array = []\n",
    "\n",
    "    # making the real bias, dark, and flat\n",
    "    bias_real = makeBias(bias_real_level)\n",
    "    dark_real = makeDark(bias_real_level)\n",
    "    flat_raw = makeRawGaussianFlat(bias_real_level)\n",
    "    flat_real_dict = {}\n",
    "    for tf in tf_array:\n",
    "        flat_real = makeCaliFlat(bias_real, dark_real, flat_raw, tf)\n",
    "        flat_real_dict[tf] = flat_real\n",
    "        \n",
    "    if debug:\n",
    "        display(flat_real_dict[tf_array[1]])\n",
    "        \n",
    "    # prop \n",
    "    for b in bias_meas_array:\n",
    "        # bias displacement\n",
    "        deltab = b - bias_real_level\n",
    "        # bias percent change mean\n",
    "        percent_change_in_bias = (deltab * 100) / bias_real_level\n",
    "        for tf in tf_array:\n",
    "            # real calibrated flat in a 2d array \n",
    "            flat_real = flat_real_dict[tf]\n",
    "            # measured flat in a 2d array\n",
    "            flat_meas = makeCaliFlatAll(b)\n",
    "            # flat displacement in a 2d \n",
    "            if abs:\n",
    "                deltaf = np.abs(flat_meas - flat_real)\n",
    "            else:\n",
    "                deltaf = flat_meas - flat_real\n",
    "            # flat percent change in a mean form \n",
    "            percent_change_in_flat = np.mean(deltaf / flat_real * 100)\n",
    "            percent_change_in_bias_array.append(percent_change_in_bias)\n",
    "            percent_change_in_flat_array.append(percent_change_in_flat)\n",
    "            tf_plot_array.append(tf)\n",
    "            \n",
    "    if debug:\n",
    "        ax = plt.axes(projection='3d')\n",
    "        # Adding data to our axes, 's=40' is to increase point size by 40\n",
    "        ax.scatter3D(percent_change_in_bias_array, tf_plot_array, percent_change_in_flat_array, s=1) \n",
    "        # Labelling your axes\n",
    "        ax.set_xlabel('Percent change in Bias')\n",
    "        ax.set_ylabel('Time Flat Exposure')\n",
    "        ax.set_zlabel('Percent change in Flat')\n",
    "        \n",
    "    \n",
    "    # Perform curve fitting\n",
    "    popt, pcov = curve_fit(func, (percent_change_in_bias_array, tf_plot_array), percent_change_in_flat_array)\n",
    "    \n",
    "    if debug: \n",
    "            \n",
    "        X, Y = np.meshgrid(percent_change_in_bias_array, tf_plot_array)\n",
    "        pred_flat_change = func((X, Y), *popt)\n",
    "        \n",
    "        ax = plt.axes(projection='3d')\n",
    "        # Adding data to our axes, 's=40' is to increase point size by 40\n",
    "        ax.scatter3D(percent_change_in_bias_array, tf_plot_array, percent_change_in_flat_array, s=1) \n",
    "        ax.plot_surface(X, Y, pred_flat_change, color='red', alpha=0.5)\n",
    "        # Labelling your axes\n",
    "        ax.set_xlabel('Percent change in Bias')\n",
    "        ax.set_ylabel('Time Flat Exposure')\n",
    "        ax.set_zlabel('Percent change in Flat')\n",
    "        \n",
    "    return popt, pcov\n",
    "            \n",
    "    "
   ]
  },
  {
   "cell_type": "code",
   "execution_count": null,
   "metadata": {},
   "outputs": [],
   "source": [
    "from tqdm.notebook import tqdm\n",
    "\n",
    "def func(xy, a, b, c, d, e, f):\n",
    "    x, y = xy\n",
    "    return a + b*x + c*y + d*x**2 + e*y**2 + f*x*y\n",
    "\n",
    "def propagationVerion1(bias_real_level = bias_real_level, bias_meas_array = bias_meas_array, tf_array = tf_array, debug = False, abs = False):\n",
    "    # prop storage array\n",
    "    percent_change_in_bias_array = []\n",
    "    percent_change_in_flat_array = []\n",
    "    tf_plot_array = []\n",
    "\n",
    "    # Replace this with the actual number of iterations or tasks you have\n",
    "    total_iterations = len(bias_meas_array) * len(tf_array)\n",
    "    # Create a tqdm object to display the progress bar\n",
    "    progress_bar = tqdm(total=total_iterations, desc=\"Processing\")\n",
    "    \n",
    "    for tf in tf_array:\n",
    "        flat_real = makeCaliFlatAll(bias_real_level, tf=tf)\n",
    "        for b in bias_meas_array:\n",
    "            deltab = b - bias_real_level\n",
    "            percent_change_in_bias = (deltab * 100) / bias_real_level\n",
    "            # measured flat in a 2d array\n",
    "            flat_meas = makeCaliFlatAll(b, tf=tf)\n",
    "            # flat displacement in a 2d \n",
    "            if abs:\n",
    "                deltaf = np.abs(flat_meas - flat_real)\n",
    "            else:\n",
    "                deltaf = flat_meas - flat_real\n",
    "            # flat percent change in a mean form \n",
    "            percent_change_in_flat = np.mean(deltaf / flat_real * 100)\n",
    "            percent_change_in_bias_array.append(percent_change_in_bias)\n",
    "            percent_change_in_flat_array.append(percent_change_in_flat)\n",
    "            tf_plot_array.append(tf)\n",
    "            progress_bar.update(1)\n",
    "            \n",
    "    if debug:\n",
    "        ax = plt.axes(projection='3d')\n",
    "        # Adding data to our axes, 's=40' is to increase point size by 40\n",
    "        ax.scatter3D(percent_change_in_bias_array, tf_plot_array, percent_change_in_flat_array, s=1) \n",
    "        # Labelling your axes\n",
    "        ax.set_xlabel('Percent change in Bias')\n",
    "        ax.set_ylabel('Time Flat Exposure')\n",
    "        ax.set_zlabel('Percent change in Flat')\n",
    "    \n",
    "    progress_bar.close()\n",
    "    print(\"Task completed.\")\n",
    "    # Perform curve fitting\n",
    "    popt, pcov = curve_fit(func, (percent_change_in_bias_array, tf_plot_array), percent_change_in_flat_array)\n",
    "    \n",
    "    if debug: \n",
    "            \n",
    "        X, Y = np.meshgrid(percent_change_in_bias_array, tf_plot_array)\n",
    "        pred_flat_change = func((X, Y), *popt)\n",
    "        \n",
    "        ax = plt.axes(projection='3d')\n",
    "        # Adding data to our axes, 's=40' is to increase point size by 40\n",
    "        ax.scatter3D(percent_change_in_bias_array, tf_plot_array, percent_change_in_flat_array, s=1) \n",
    "        ax.plot_surface(X, Y, pred_flat_change, color='red', alpha=0.5)\n",
    "        # Labelling your axes\n",
    "        ax.set_xlabel('Percent change in Bias')\n",
    "        ax.set_ylabel('Time Flat Exposure')\n",
    "        ax.set_zlabel('Percent change in Flat')\n",
    "        \n",
    "    return popt, pcov\n",
    "            \n",
    "    "
   ]
  },
  {
   "cell_type": "code",
   "execution_count": null,
   "metadata": {},
   "outputs": [],
   "source": [
    "popt, pcov = propagationVerion1(debug = True)"
   ]
  }
 ],
 "metadata": {
  "kernelspec": {
   "display_name": "Python 3.11.0 64-bit",
   "language": "python",
   "name": "python3"
  },
  "language_info": {
   "codemirror_mode": {
    "name": "ipython",
    "version": 3
   },
   "file_extension": ".py",
   "mimetype": "text/x-python",
   "name": "python",
   "nbconvert_exporter": "python",
   "pygments_lexer": "ipython3",
   "version": "3.11.0"
  },
  "orig_nbformat": 4,
  "vscode": {
   "interpreter": {
    "hash": "aee8b7b246df8f9039afb4144a1f6fd8d2ca17a180786b69acc140d282b71a49"
   }
  }
 },
 "nbformat": 4,
 "nbformat_minor": 2
}
