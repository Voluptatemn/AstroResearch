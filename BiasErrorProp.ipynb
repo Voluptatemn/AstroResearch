{
 "cells": [
  {
   "cell_type": "code",
   "execution_count": 1,
   "metadata": {},
   "outputs": [],
   "source": [
    "# f = (f' - B - d * t) / med (f' - b - d * t)\n",
    "# D = D' - B\n",
    "# B = B' + Berr"
   ]
  },
  {
   "cell_type": "code",
   "execution_count": 2,
   "metadata": {},
   "outputs": [],
   "source": [
    "import numpy as np\n",
    "import matplotlib.pyplot as plt\n",
    "from scipy.optimize import curve_fit"
   ]
  },
  {
   "cell_type": "code",
   "execution_count": 3,
   "metadata": {},
   "outputs": [],
   "source": [
    "# parameters\n",
    "# gain electrons per adu\n",
    "g = 3.6\n",
    "# dimension \n",
    "row = 2048\n",
    "column = 2048\n",
    "# bias levels \n",
    "# real bias level count per pixel \n",
    "bias_real_level = 300\n",
    "# the systematic readout error on the bias\n",
    "readnoise = 5\n",
    "# assumed bias level \n",
    "# float up to factor \n",
    "factor = 2 \n",
    "bias_meas_array = np.linspace(bias_real_level/factor, bias_real_level*factor)\n",
    "# bias_meas_array = [bias_real_level]\n",
    "# dark\n",
    "# dark current elec per sec\n",
    "d = 0.05\n",
    "# time dark exposure\n",
    "td = 60\n",
    "# flat counts per pixel \n",
    "f = 10000\n",
    "# time flat exposure \n",
    "tf_array = np.linspace(3, 120)"
   ]
  },
  {
   "cell_type": "code",
   "execution_count": 4,
   "metadata": {},
   "outputs": [],
   "source": [
    "para_dict = {\n",
    "    'bias_level': 300,\n",
    "    'row': 2048,\n",
    "    'column': 2048,\n",
    "    'g': 3.6,\n",
    "    'readnoise': 5,\n",
    "    'd': 0.05,\n",
    "    'td': 60,\n",
    "    'f': 10000,\n",
    "    'tf_array': np.linspace(3, 120)   \n",
    "}"
   ]
  },
  {
   "cell_type": "code",
   "execution_count": 5,
   "metadata": {},
   "outputs": [],
   "source": [
    "# function making a bias based on a given bias input\n",
    "# normal distributed \n",
    "# output: 2d bias level in counts per pixel \n",
    "def makeBias(bias_level,size=(row,column),readnoise=5,debug=False):\n",
    "    bias = np.random.normal(bias_level, readnoise, size)\n",
    "    return bias"
   ]
  },
  {
   "cell_type": "code",
   "execution_count": 6,
   "metadata": {},
   "outputs": [],
   "source": [
    "def makeDarkCounts(td=60,d=0.05,size=(row,column),debug=False,g=3.6):\n",
    "    dark_counts = np.random.poisson(d*td, size) / g \n",
    "    return dark_counts"
   ]
  },
  {
   "cell_type": "code",
   "execution_count": 7,
   "metadata": {},
   "outputs": [],
   "source": [
    "# dark function based on a given bias input\n",
    "# possion distributed\n",
    "# output: 2d dark current in counts per sec per pixel \n",
    "def makeDark(bias_level,td=60,d=0.05,size=(row,column),debug=False,g=3.6):\n",
    "    dark = makeDarkCounts(td=td,d=d,size=size,debug=debug,g=g) + \\\n",
    "                              makeBias(bias_level,size=size,debug=debug)\n",
    "    return dark    "
   ]
  },
  {
   "cell_type": "code",
   "execution_count": 8,
   "metadata": {},
   "outputs": [],
   "source": [
    "# flat function \n",
    "# possion distributed \n",
    "# output: 2d raw flat level in counts per pixel \n",
    "def makeRawFlat(bias_level,debug=False,g=3.6,\n",
    "                f=15000,size=(row,column)):\n",
    "    flat = makeBias(bias_level) + np.random.poisson(f, size)\n",
    "    return flat"
   ]
  },
  {
   "cell_type": "code",
   "execution_count": 9,
   "metadata": {},
   "outputs": [],
   "source": [
    "# calibrated flat function \n",
    "# output: 2d calibrated flat level in counts per pixel \n",
    "def makeCaliFlat(bias, dark, raw_flat, tf=3, td=60, debug = False):\n",
    "    caliFlat = (raw_flat - dark / td * tf - bias) / np.median(raw_flat - dark * tf - bias)\n",
    "    return caliFlat "
   ]
  },
  {
   "cell_type": "code",
   "execution_count": 10,
   "metadata": {},
   "outputs": [],
   "source": [
    "def systematic_deviation(bias_level, time = 1, tf_array = tf_array, debug = False):\n",
    "    # see the error with same bias \n",
    "    percent_change_in_flat_array = []\n",
    "    percent_change_in_flat_array_std = []\n",
    "    tf_plot_array = []\n",
    "    for tf in tf_array:\n",
    "        percent_change_in_flat_array_storage = []\n",
    "        for i in range(time):\n",
    "            bias_real_1 = makeBias(bias_level)\n",
    "            dark_real_1 = makeDark(bias_level)\n",
    "            flat_raw_1 = makeRawFlat(bias_level, tf)\n",
    "            flat_real_1 = makeCaliFlat(bias_real_1, dark_real_1, flat_raw_1, tf)\n",
    "            bias_real = makeBias(bias_level)\n",
    "            dark_real = makeDark(bias_level)\n",
    "            flat_raw = makeRawFlat(bias_level, tf)\n",
    "            flat_real = makeCaliFlat(bias_real, dark_real, flat_raw, tf)\n",
    "            deltaf = np.abs(flat_real - flat_real_1)\n",
    "            # flat percent change in a mean form \n",
    "            percent_change_in_flat = np.mean(deltaf / flat_real_1 * 100)\n",
    "            percent_change_in_flat_array_storage.append(percent_change_in_flat)\n",
    "        mean = np.mean(percent_change_in_flat_array_storage)\n",
    "        std = np.std(percent_change_in_flat_array_storage)\n",
    "        percent_change_in_flat_array.append(mean)\n",
    "        percent_change_in_flat_array_std.append(std)\n",
    "        tf_plot_array.append(tf)\n",
    "    plt.scatter(tf_plot_array, percent_change_in_flat_array)\n",
    "    plt.errorbar(tf_plot_array, percent_change_in_flat_array,\n",
    "                yerr = percent_change_in_flat_array_std,\n",
    "                fmt ='o')\n",
    "    plt.xlabel('TF changes')\n",
    "    plt.ylabel('Flat changes perc')\n",
    "    plt.show()\n",
    "    "
   ]
  },
  {
   "cell_type": "code",
   "execution_count": 11,
   "metadata": {},
   "outputs": [
    {
     "data": {
      "image/png": "[encoded data removed]",
      "text/plain": [
       "<Figure size 640x480 with 1 Axes>"
      ]
     },
     "metadata": {},
     "output_type": "display_data"
    }
   ],
   "source": [
    "systematic_deviation(bias_real_level)"
   ]
  },
  {
   "cell_type": "code",
   "execution_count": null,
   "metadata": {},
   "outputs": [],
   "source": [
    "def func(xy, a, b, c, d, e, f):\n",
    "    x, y = xy\n",
    "    return a + b*x + c*y + d*x**2 + e*y**2 + f*x*y"
   ]
  },
  {
   "cell_type": "code",
   "execution_count": 229,
   "metadata": {},
   "outputs": [],
   "source": [
    "def propagation(bias_real_level = bias_real_level, bias_meas_array = bias_meas_array, tf_array = tf_array, debug = False):\n",
    "    # prop storage array\n",
    "    percent_change_in_bias_array = []\n",
    "    percent_change_in_flat_array = []\n",
    "    tf_plot_array = []\n",
    "\n",
    "    # making the real bias, dark, and flat\n",
    "    bias_real = makeBias(bias_real_level)\n",
    "    dark_real = makeDark(bias_real_level)\n",
    "    flat_raw_dict = {}\n",
    "    flat_real_dict = {}\n",
    "    for tf in tf_array:\n",
    "        flat_raw = makeRawFlat(bias_real_level, tf)\n",
    "        flat_real = makeCaliFlat(bias_real, dark_real, flat_raw, tf)\n",
    "        flat_real_dict[tf] = flat_real\n",
    "        \n",
    "    # prop \n",
    "    for b in bias_meas_array:\n",
    "        # measured bias 2d array\n",
    "        bias_meas = makeBias(b)\n",
    "        # bias displacement\n",
    "        deltab = bias_real - bias_meas\n",
    "        # bias percent change mean\n",
    "        percent_change_in_bias = np.mean(deltab / bias_real * 100)\n",
    "        # measured dark \n",
    "        dark_meas = makeDark(b)\n",
    "        for tf in tf_array:\n",
    "            # real calibrated flat in a 2d array \n",
    "            flat_real = flat_real_dict[tf]\n",
    "            # measured raw flat in a 2d array\n",
    "            flat_raw = makeRawFlat(b)\n",
    "            # measured flat in a 2d array\n",
    "            flat_meas = makeCaliFlat(bias_meas, dark_meas, flat_raw, tf)\n",
    "            # flat displacement in a 2d \n",
    "            deltaf = np.abs(flat_real - flat_meas)\n",
    "            # flat percent change in a mean form \n",
    "            percent_change_in_flat = np.mean(deltaf / flat_real * 100)\n",
    "            percent_change_in_bias_array.append(percent_change_in_bias)\n",
    "            percent_change_in_flat_array.append(percent_change_in_flat)\n",
    "            tf_plot_array.append(tf)\n",
    "    \n",
    "    # Perform curve fitting\n",
    "    popt, pcov = curve_fit(func, (percent_change_in_bias_array, tf_plot_array), percent_change_in_flat_array)\n",
    "    \n",
    "    if debug: \n",
    "            \n",
    "        X, Y = np.meshgrid(percent_change_in_bias_array, tf_plot_array)\n",
    "        pred_flat_change = func((X, Y), *popt)\n",
    "        \n",
    "        ax = plt.axes(projection='3d')\n",
    "        # Adding data to our axes, 's=40' is to increase point size by 40\n",
    "        ax.scatter3D(percent_change_in_bias_array, tf_plot_array, percent_change_in_flat_array, s=1) \n",
    "        ax.plot_surface(X, Y, pred_flat_change, color='red', alpha=0.5)\n",
    "        # Labelling your axes\n",
    "        ax.set_xlabel('Percent change in Bias')\n",
    "        ax.set_ylabel('Time Flat Exposure')\n",
    "        ax.set_zlabel('Percent change in Flat')\n",
    "        ax.view_init(0, 45)\n",
    "        \n",
    "    return popt, pcov\n",
    "            \n",
    "    "
   ]
  },
  {
   "cell_type": "code",
   "execution_count": null,
   "metadata": {},
   "outputs": [],
   "source": [
    "# # prop\n",
    "# for b in bias_meas_mean:\n",
    "#     # bias measured in a 2d form with systematic error\n",
    "#     bias_meas = np.array([[np.random.normal(b, bias_err) for _ in range(column)] for _ in range(row)])\n",
    "#     # bias displacement in a 2d form \n",
    "#     deltab = bias_real - bias_meas\n",
    "#     # bias change in a mean form\n",
    "#     percent_change_in_bias = np.mean(deltab / bias_real * 100)\n",
    "#     # measured dark \n",
    "#     d_meas = d / g - bias_meas / td\n",
    "#     # for each flat exposure time \n",
    "#     for tf in tf_array:\n",
    "#         # real flat in a 2d array form \n",
    "#         flat_real = (flat_raw - d_real * tf - bias_real) / np.median(flat_raw - d_real * tf - bias_real)\n",
    "#         # flat measured in a 2d array form\n",
    "#         flat_meas = (flat_raw - d_meas * tf - bias_meas) / np.median(flat_raw - d_meas * tf - bias_meas)\n",
    "#         # flat displacement in a 2d \n",
    "#         deltaf = flat_real - flat_meas\n",
    "#         # flat percent change in a mean form \n",
    "#         percent_change_in_flat = np.mean(deltaf / flat_meas * 100)\n",
    "#         percent_change_in_bias_array.append(percent_change_in_bias)\n",
    "#         percent_change_in_flat_array.append(percent_change_in_flat)\n",
    "#         tf_plot_array.append(tf)"
   ]
  },
  {
   "cell_type": "code",
   "execution_count": null,
   "metadata": {},
   "outputs": [],
   "source": [
    "# # number of pixels in rows and columns, can change with the dimension of the CCD\n",
    "# rows = 100\n",
    "# columns = 100\n",
    "# # dark counts per second per pixel \n",
    "# dark = 2 \n",
    "# # the flactuation of flat with a 3% error\n",
    "# flatUpper = 1.03\n",
    "# flatLower = 0.97\n",
    "# # bias counts and overall bias level change\n",
    "# bias = 4000\n",
    "# biasChangeUpper = 0.2\n",
    "# biasChangeLower = 0.01\n",
    "# # integration time \n",
    "# time = 300 \n",
    "\n",
    "# # flat field randomization\n",
    "# flatField = np.matrix([[np.random.uniform(flatLower, flatUpper) for _ in range(columns)] for _ in range(rows)])"
   ]
  },
  {
   "cell_type": "code",
   "execution_count": null,
   "metadata": {},
   "outputs": [],
   "source": [
    "# #change for the bias\n",
    "# biasChange = np.linspace(biasChangeLower, biasChangeUpper)\n",
    "# # flat field propagation \n",
    "# mean_displacement = []\n",
    "# for b in biasChange:  \n",
    "#     master_bias = np.matrix([[np.random.normal(bias, bias * b) for _ in range(columns)] for _ in range(rows)])\n",
    "#     master_dark = dark * time + master_bias\n",
    "#     flat = flatField - master_dark - master_bias\n",
    "#     flat /= np.mean(flat)\n",
    "#     displacement = np.mean(np.abs((flat - flatField)) / flatField)\n",
    "#     mean_displacement.append(displacement) \n",
    "    \n",
    "# plt.plot(biasChange, mean_displacement, 'o')\n",
    "# plt.title(\"BiasPropagation\")\n",
    "# plt.xlabel('BiasChange')\n",
    "# plt.ylabel('Displacement')\n",
    "# plt.show()"
   ]
  },
  {
   "cell_type": "code",
   "execution_count": null,
   "metadata": {},
   "outputs": [],
   "source": [
    "# fit = np.polyfit(biasChange, mean_displacement,1,full=False, cov=True)\n",
    "\n",
    "# # Fit parameters are the first element in the returned \"tuple\"\n",
    "# fitparams = fit[0]\n",
    "# slope = fitparams[0]\n",
    "# intercept = fitparams[1]\n",
    "\n",
    "# # Covariance matrix is the second element in the returned \"tuple\"\n",
    "# cov = fit[1]\n",
    "\n",
    "# # This is the way you get errors out of the covariance matrix.\n",
    "# param_error = np.sqrt(np.diagonal(cov))\n",
    "# slope_error = param_error[0]\n",
    "# intercept_error = param_error[1]\n",
    "\n",
    "# slope_output = 'slope is %.3f +/- %0.3f' %(slope,slope_error)\n",
    "# intercept_output = 'intercept is %.3f +/- %0.3f' %(intercept,intercept_error)\n",
    "\n",
    "# plt.errorbar(biasChange,mean_displacement)\n",
    "# plt.xlabel('Bias')\n",
    "# plt.ylabel('Mean Displacement (flat - flatPrime) / flatPrime')\n",
    "# xfit = np.linspace(plt.xlim()[0],plt.xlim()[1],100)\n",
    "# yfit = intercept + slope*xfit\n",
    "# plt.plot(xfit,yfit,'r--', label='Linear output with ' + slope_output + intercept_output)\n",
    "# plt.legend()\n",
    "\n",
    "# print('The slope is %.3f +/- %0.3f' %(slope,slope_error))\n",
    "# print('The intercept is %.3f +/- %0.3f' %(intercept,intercept_error))\n",
    "# # plt.savefig('Updated Linear model')"
   ]
  }
 ],
 "metadata": {
  "kernelspec": {
   "display_name": "Python 3.11.0 64-bit",
   "language": "python",
   "name": "python3"
  },
  "language_info": {
   "codemirror_mode": {
    "name": "ipython",
    "version": 3
   },
   "file_extension": ".py",
   "mimetype": "text/x-python",
   "name": "python",
   "nbconvert_exporter": "python",
   "pygments_lexer": "ipython3",
   "version": "3.11.0"
  },
  "orig_nbformat": 4,
  "vscode": {
   "interpreter": {
    "hash": "aee8b7b246df8f9039afb4144a1f6fd8d2ca17a180786b69acc140d282b71a49"
   }
  }
 },
 "nbformat": 4,
 "nbformat_minor": 2
}
