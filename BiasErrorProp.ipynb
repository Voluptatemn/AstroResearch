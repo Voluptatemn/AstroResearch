{
 "cells": [
  {
   "cell_type": "code",
   "execution_count": 112,
   "metadata": {},
   "outputs": [],
   "source": [
    "# f = (f' - B - d * t) / med (f' - b - d * t)\n",
    "# D = D' - B\n",
    "# B = B' + Berr\n",
    "# a few things to talk about \n",
    "# Getting into modeling\n",
    "# Just set up the interns "
   ]
  },
  {
   "cell_type": "code",
   "execution_count": 113,
   "metadata": {},
   "outputs": [],
   "source": [
    "import numpy as np\n",
    "import matplotlib.pyplot as plt"
   ]
  },
  {
   "cell_type": "code",
   "execution_count": 114,
   "metadata": {},
   "outputs": [],
   "source": [
    "# parameters\n",
    "# gain electrons per adu\n",
    "g = 3.6\n",
    "# dimension \n",
    "row = 2048\n",
    "column = 2048\n",
    "# bias levels \n",
    "# real bias level count per pixel \n",
    "bias_real_level = 300\n",
    "# the systematic error on the bias\n",
    "readnoise = 5\n",
    "# assumed bias level float up to factor of 2 \n",
    "factor = 2 \n",
    "bias_meas_array = np.linspace(bias_real_level/factor, bias_real_level*factor)\n",
    "# dark\n",
    "# dark current elec per sec\n",
    "d = 0.05\n",
    "# time dark exposure\n",
    "td = 60\n",
    "# flat counts per pixel \n",
    "f = 10000\n",
    "# time flat exposure \n",
    "tf_array = np.linspace(3, 120)"
   ]
  },
  {
   "cell_type": "code",
   "execution_count": 115,
   "metadata": {},
   "outputs": [],
   "source": [
    "# function making a bias based on a given bias input\n",
    "# normal distributed \n",
    "# output: 2d bias level in counts per pixel \n",
    "def makeBias(bias):\n",
    "    bias = np.random.normal(bias, readnoise, (row, column))\n",
    "    return bias"
   ]
  },
  {
   "cell_type": "code",
   "execution_count": 116,
   "metadata": {},
   "outputs": [],
   "source": [
    "# dark function based on a given bias input\n",
    "# possion distributed\n",
    "# output: 2d dark current in counts per sec per pixel \n",
    "def makeDark(bias):\n",
    "    dark = makeBias(bias) / td + np.random.poisson(d, (row, column)) / g\n",
    "    return dark     "
   ]
  },
  {
   "cell_type": "code",
   "execution_count": 117,
   "metadata": {},
   "outputs": [],
   "source": [
    "# flat function and possion given a bias, total counts \n",
    "# possion distributed \n",
    "# output: 2d flat level in counts per pixel \n",
    "def makeFlat(bias, tf):\n",
    "    flat = makeBias(bias) + makeDark(bias) * tf  + np.random.poisson(f * g, (row, column)) / g\n",
    "    return flat"
   ]
  },
  {
   "cell_type": "code",
   "execution_count": 118,
   "metadata": {},
   "outputs": [],
   "source": [
    "# prop storage array\n",
    "percent_change_in_bias_array = []\n",
    "percent_change_in_flat_array = []\n",
    "tf_plot_array = []"
   ]
  },
  {
   "cell_type": "code",
   "execution_count": 119,
   "metadata": {},
   "outputs": [],
   "source": [
    "# making the real bias, dark and flat\n",
    "bias_real = makeBias(bias_real_level)\n",
    "dark_real = makeDark(bias_real_level)\n",
    "flat_raw = makeFlat(bias_real_level)"
   ]
  },
  {
   "cell_type": "code",
   "execution_count": 120,
   "metadata": {},
   "outputs": [
    {
     "ename": "KeyboardInterrupt",
     "evalue": "",
     "output_type": "error",
     "traceback": [
      "\u001b[0;31m---------------------------------------------------------------------------\u001b[0m",
      "\u001b[0;31mKeyboardInterrupt\u001b[0m                         Traceback (most recent call last)",
      "Cell \u001b[0;32mIn[120], line 17\u001b[0m\n\u001b[1;32m     15\u001b[0m flat_real \u001b[39m=\u001b[39m (flat_raw \u001b[39m-\u001b[39m dark_real \u001b[39m*\u001b[39m tf \u001b[39m-\u001b[39m bias_real) \u001b[39m/\u001b[39m np\u001b[39m.\u001b[39mmedian(flat_raw \u001b[39m-\u001b[39m dark_real \u001b[39m*\u001b[39m tf \u001b[39m-\u001b[39m bias_real)\n\u001b[1;32m     16\u001b[0m \u001b[39m# flat measured in a 2d array form\u001b[39;00m\n\u001b[0;32m---> 17\u001b[0m flat_meas \u001b[39m=\u001b[39m (flat_raw \u001b[39m-\u001b[39m dark_meas \u001b[39m*\u001b[39m tf \u001b[39m-\u001b[39m bias_meas) \u001b[39m/\u001b[39m np\u001b[39m.\u001b[39;49mmedian(flat_raw \u001b[39m-\u001b[39;49m dark_meas \u001b[39m*\u001b[39;49m tf \u001b[39m-\u001b[39;49m bias_meas)\n\u001b[1;32m     18\u001b[0m \u001b[39m# flat displacement in a 2d \u001b[39;00m\n\u001b[1;32m     19\u001b[0m deltaf \u001b[39m=\u001b[39m flat_real \u001b[39m-\u001b[39m flat_meas\n",
      "File \u001b[0;32m<__array_function__ internals>:180\u001b[0m, in \u001b[0;36mmedian\u001b[0;34m(*args, **kwargs)\u001b[0m\n",
      "File \u001b[0;32m/Library/Frameworks/Python.framework/Versions/3.11/lib/python3.11/site-packages/numpy/lib/function_base.py:3816\u001b[0m, in \u001b[0;36mmedian\u001b[0;34m(a, axis, out, overwrite_input, keepdims)\u001b[0m\n\u001b[1;32m   3734\u001b[0m \u001b[39m@array_function_dispatch\u001b[39m(_median_dispatcher)\n\u001b[1;32m   3735\u001b[0m \u001b[39mdef\u001b[39;00m \u001b[39mmedian\u001b[39m(a, axis\u001b[39m=\u001b[39m\u001b[39mNone\u001b[39;00m, out\u001b[39m=\u001b[39m\u001b[39mNone\u001b[39;00m, overwrite_input\u001b[39m=\u001b[39m\u001b[39mFalse\u001b[39;00m, keepdims\u001b[39m=\u001b[39m\u001b[39mFalse\u001b[39;00m):\n\u001b[1;32m   3736\u001b[0m     \u001b[39m\"\"\"\u001b[39;00m\n\u001b[1;32m   3737\u001b[0m \u001b[39m    Compute the median along the specified axis.\u001b[39;00m\n\u001b[1;32m   3738\u001b[0m \n\u001b[0;32m   (...)\u001b[0m\n\u001b[1;32m   3814\u001b[0m \n\u001b[1;32m   3815\u001b[0m \u001b[39m    \"\"\"\u001b[39;00m\n\u001b[0;32m-> 3816\u001b[0m     r, k \u001b[39m=\u001b[39m _ureduce(a, func\u001b[39m=\u001b[39;49m_median, axis\u001b[39m=\u001b[39;49maxis, out\u001b[39m=\u001b[39;49mout,\n\u001b[1;32m   3817\u001b[0m                     overwrite_input\u001b[39m=\u001b[39;49moverwrite_input)\n\u001b[1;32m   3818\u001b[0m     \u001b[39mif\u001b[39;00m keepdims:\n\u001b[1;32m   3819\u001b[0m         \u001b[39mreturn\u001b[39;00m r\u001b[39m.\u001b[39mreshape(k)\n",
      "File \u001b[0;32m/Library/Frameworks/Python.framework/Versions/3.11/lib/python3.11/site-packages/numpy/lib/function_base.py:3725\u001b[0m, in \u001b[0;36m_ureduce\u001b[0;34m(a, func, **kwargs)\u001b[0m\n\u001b[1;32m   3722\u001b[0m \u001b[39melse\u001b[39;00m:\n\u001b[1;32m   3723\u001b[0m     keepdim \u001b[39m=\u001b[39m (\u001b[39m1\u001b[39m,) \u001b[39m*\u001b[39m a\u001b[39m.\u001b[39mndim\n\u001b[0;32m-> 3725\u001b[0m r \u001b[39m=\u001b[39m func(a, \u001b[39m*\u001b[39;49m\u001b[39m*\u001b[39;49mkwargs)\n\u001b[1;32m   3726\u001b[0m \u001b[39mreturn\u001b[39;00m r, keepdim\n",
      "File \u001b[0;32m/Library/Frameworks/Python.framework/Versions/3.11/lib/python3.11/site-packages/numpy/lib/function_base.py:3851\u001b[0m, in \u001b[0;36m_median\u001b[0;34m(a, axis, out, overwrite_input)\u001b[0m\n\u001b[1;32m   3849\u001b[0m         part \u001b[39m=\u001b[39m a\n\u001b[1;32m   3850\u001b[0m \u001b[39melse\u001b[39;00m:\n\u001b[0;32m-> 3851\u001b[0m     part \u001b[39m=\u001b[39m partition(a, kth, axis\u001b[39m=\u001b[39;49maxis)\n\u001b[1;32m   3853\u001b[0m \u001b[39mif\u001b[39;00m part\u001b[39m.\u001b[39mshape \u001b[39m==\u001b[39m ():\n\u001b[1;32m   3854\u001b[0m     \u001b[39m# make 0-D arrays work\u001b[39;00m\n\u001b[1;32m   3855\u001b[0m     \u001b[39mreturn\u001b[39;00m part\u001b[39m.\u001b[39mitem()\n",
      "File \u001b[0;32m<__array_function__ internals>:180\u001b[0m, in \u001b[0;36mpartition\u001b[0;34m(*args, **kwargs)\u001b[0m\n",
      "File \u001b[0;32m/Library/Frameworks/Python.framework/Versions/3.11/lib/python3.11/site-packages/numpy/core/fromnumeric.py:758\u001b[0m, in \u001b[0;36mpartition\u001b[0;34m(a, kth, axis, kind, order)\u001b[0m\n\u001b[1;32m    756\u001b[0m \u001b[39melse\u001b[39;00m:\n\u001b[1;32m    757\u001b[0m     a \u001b[39m=\u001b[39m asanyarray(a)\u001b[39m.\u001b[39mcopy(order\u001b[39m=\u001b[39m\u001b[39m\"\u001b[39m\u001b[39mK\u001b[39m\u001b[39m\"\u001b[39m)\n\u001b[0;32m--> 758\u001b[0m a\u001b[39m.\u001b[39;49mpartition(kth, axis\u001b[39m=\u001b[39;49maxis, kind\u001b[39m=\u001b[39;49mkind, order\u001b[39m=\u001b[39;49morder)\n\u001b[1;32m    759\u001b[0m \u001b[39mreturn\u001b[39;00m a\n",
      "\u001b[0;31mKeyboardInterrupt\u001b[0m: "
     ]
    }
   ],
   "source": [
    "# prop \n",
    "for b in bias_meas_array:\n",
    "    # measured bias 2d array\n",
    "    bias_meas = makeBias(b)\n",
    "    # bias displacement\n",
    "    deltab = bias_real - bias_meas\n",
    "    # bias percent change mean\n",
    "    percent_change_in_bias = np.mean(deltab / bias_real * 100)\n",
    "    # measured dark \n",
    "    dark_meas = makeDark(b)\n",
    "    # measured flat\n",
    "    flat_measured_raw = makeFlat(b)\n",
    "    for tf in tf_array:\n",
    "        # real flat in a 2d array form \n",
    "        flat_real = (flat_raw - dark_real * tf - bias_real) / np.median(flat_raw - dark_real * tf - bias_real)\n",
    "        # flat measured in a 2d array form\n",
    "        flat_meas = (flat_raw - dark_meas * tf - bias_meas) / np.median(flat_raw - dark_meas * tf - bias_meas)\n",
    "        # flat displacement in a 2d \n",
    "        deltaf = flat_real - flat_meas\n",
    "        # flat percent change in a mean form \n",
    "        percent_change_in_flat = np.mean(deltaf / flat_meas * 100)\n",
    "        percent_change_in_bias_array.append(percent_change_in_bias)\n",
    "        percent_change_in_flat_array.append(percent_change_in_flat)\n",
    "        tf_plot_array.append(tf)"
   ]
  },
  {
   "cell_type": "code",
   "execution_count": null,
   "metadata": {},
   "outputs": [],
   "source": [
    "ax = plt.axes(projection='3d')\n",
    "# Adding data to our axes, 's=40' is to increase point size by 40\n",
    "ax.scatter3D(percent_change_in_bias_array, tf_plot_array, percent_change_in_flat_array, s=1) \n",
    "\n",
    "# Labelling your axes\n",
    "ax.set_xlabel('Percent change in Bias')\n",
    "ax.set_ylabel('Time Flat Exposure')\n",
    "ax.set_zlabel('Percent change in Flat')"
   ]
  },
  {
   "cell_type": "code",
   "execution_count": null,
   "metadata": {},
   "outputs": [],
   "source": [
    "def func(xy, a, b, c, d, e, f):\n",
    "    x, y = xy\n",
    "    return a + b*x + c*y + d*x**2 + e*y**2 + f*x*y"
   ]
  },
  {
   "cell_type": "code",
   "execution_count": null,
   "metadata": {},
   "outputs": [],
   "source": [
    "from scipy.optimize import curve_fit\n",
    "  \n",
    "# Perform curve fitting\n",
    "popt, pcov = curve_fit(func, (percent_change_in_bias_array, tf_plot_array), percent_change_in_flat_array)\n",
    "  \n",
    "# Print optimized parameters\n",
    "print(popt)"
   ]
  },
  {
   "cell_type": "code",
   "execution_count": null,
   "metadata": {},
   "outputs": [],
   "source": [
    "X, Y = np.meshgrid(percent_change_in_bias_array, tf_plot_array)\n",
    "pred_flat_change = func((X, Y), *popt)"
   ]
  },
  {
   "cell_type": "code",
   "execution_count": null,
   "metadata": {},
   "outputs": [],
   "source": [
    "ax = plt.axes(projection='3d')\n",
    "# Adding data to our axes, 's=40' is to increase point size by 40\n",
    "ax.scatter3D(percent_change_in_bias_array, tf_plot_array, percent_change_in_flat_array, s=1) \n",
    "ax.plot_surface(X, Y, pred_flat_change, color='red', alpha=0.5)\n",
    "# Labelling your axes\n",
    "ax.set_xlabel('Percent change in Bias')\n",
    "ax.set_ylabel('Time Flat Exposure')\n",
    "ax.set_zlabel('Percent change in Flat')\n",
    "ax.view_init(0, 45)"
   ]
  },
  {
   "cell_type": "code",
   "execution_count": null,
   "metadata": {},
   "outputs": [],
   "source": [
    "func((50, 60), *popt)"
   ]
  },
  {
   "cell_type": "code",
   "execution_count": 33,
   "metadata": {},
   "outputs": [],
   "source": [
    "# # prop\n",
    "# for b in bias_meas_mean:\n",
    "#     # bias measured in a 2d form with systematic error\n",
    "#     bias_meas = np.array([[np.random.normal(b, bias_err) for _ in range(column)] for _ in range(row)])\n",
    "#     # bias displacement in a 2d form \n",
    "#     deltab = bias_real - bias_meas\n",
    "#     # bias change in a mean form\n",
    "#     percent_change_in_bias = np.mean(deltab / bias_real * 100)\n",
    "#     # measured dark \n",
    "#     d_meas = d / g - bias_meas / td\n",
    "#     # for each flat exposure time \n",
    "#     for tf in tf_array:\n",
    "#         # real flat in a 2d array form \n",
    "#         flat_real = (flat_raw - d_real * tf - bias_real) / np.median(flat_raw - d_real * tf - bias_real)\n",
    "#         # flat measured in a 2d array form\n",
    "#         flat_meas = (flat_raw - d_meas * tf - bias_meas) / np.median(flat_raw - d_meas * tf - bias_meas)\n",
    "#         # flat displacement in a 2d \n",
    "#         deltaf = flat_real - flat_meas\n",
    "#         # flat percent change in a mean form \n",
    "#         percent_change_in_flat = np.mean(deltaf / flat_meas * 100)\n",
    "#         percent_change_in_bias_array.append(percent_change_in_bias)\n",
    "#         percent_change_in_flat_array.append(percent_change_in_flat)\n",
    "#         tf_plot_array.append(tf)"
   ]
  },
  {
   "cell_type": "code",
   "execution_count": 35,
   "metadata": {},
   "outputs": [],
   "source": [
    "# # number of pixels in rows and columns, can change with the dimension of the CCD\n",
    "# rows = 100\n",
    "# columns = 100\n",
    "# # dark counts per second per pixel \n",
    "# dark = 2 \n",
    "# # the flactuation of flat with a 3% error\n",
    "# flatUpper = 1.03\n",
    "# flatLower = 0.97\n",
    "# # bias counts and overall bias level change\n",
    "# bias = 4000\n",
    "# biasChangeUpper = 0.2\n",
    "# biasChangeLower = 0.01\n",
    "# # integration time \n",
    "# time = 300 \n",
    "\n",
    "# # flat field randomization\n",
    "# flatField = np.matrix([[np.random.uniform(flatLower, flatUpper) for _ in range(columns)] for _ in range(rows)])"
   ]
  },
  {
   "cell_type": "code",
   "execution_count": 36,
   "metadata": {},
   "outputs": [],
   "source": [
    "# #change for the bias\n",
    "# biasChange = np.linspace(biasChangeLower, biasChangeUpper)\n",
    "# # flat field propagation \n",
    "# mean_displacement = []\n",
    "# for b in biasChange:  \n",
    "#     master_bias = np.matrix([[np.random.normal(bias, bias * b) for _ in range(columns)] for _ in range(rows)])\n",
    "#     master_dark = dark * time + master_bias\n",
    "#     flat = flatField - master_dark - master_bias\n",
    "#     flat /= np.mean(flat)\n",
    "#     displacement = np.mean(np.abs((flat - flatField)) / flatField)\n",
    "#     mean_displacement.append(displacement) \n",
    "    \n",
    "# plt.plot(biasChange, mean_displacement, 'o')\n",
    "# plt.title(\"BiasPropagation\")\n",
    "# plt.xlabel('BiasChange')\n",
    "# plt.ylabel('Displacement')\n",
    "# plt.show()"
   ]
  },
  {
   "cell_type": "code",
   "execution_count": 37,
   "metadata": {},
   "outputs": [],
   "source": [
    "# fit = np.polyfit(biasChange, mean_displacement,1,full=False, cov=True)\n",
    "\n",
    "# # Fit parameters are the first element in the returned \"tuple\"\n",
    "# fitparams = fit[0]\n",
    "# slope = fitparams[0]\n",
    "# intercept = fitparams[1]\n",
    "\n",
    "# # Covariance matrix is the second element in the returned \"tuple\"\n",
    "# cov = fit[1]\n",
    "\n",
    "# # This is the way you get errors out of the covariance matrix.\n",
    "# param_error = np.sqrt(np.diagonal(cov))\n",
    "# slope_error = param_error[0]\n",
    "# intercept_error = param_error[1]\n",
    "\n",
    "# slope_output = 'slope is %.3f +/- %0.3f' %(slope,slope_error)\n",
    "# intercept_output = 'intercept is %.3f +/- %0.3f' %(intercept,intercept_error)\n",
    "\n",
    "# plt.errorbar(biasChange,mean_displacement)\n",
    "# plt.xlabel('Bias')\n",
    "# plt.ylabel('Mean Displacement (flat - flatPrime) / flatPrime')\n",
    "# xfit = np.linspace(plt.xlim()[0],plt.xlim()[1],100)\n",
    "# yfit = intercept + slope*xfit\n",
    "# plt.plot(xfit,yfit,'r--', label='Linear output with ' + slope_output + intercept_output)\n",
    "# plt.legend()\n",
    "\n",
    "# print('The slope is %.3f +/- %0.3f' %(slope,slope_error))\n",
    "# print('The intercept is %.3f +/- %0.3f' %(intercept,intercept_error))\n",
    "# # plt.savefig('Updated Linear model')"
   ]
  }
 ],
 "metadata": {
  "kernelspec": {
   "display_name": "Python 3.11.0 64-bit",
   "language": "python",
   "name": "python3"
  },
  "language_info": {
   "codemirror_mode": {
    "name": "ipython",
    "version": 3
   },
   "file_extension": ".py",
   "mimetype": "text/x-python",
   "name": "python",
   "nbconvert_exporter": "python",
   "pygments_lexer": "ipython3",
   "version": "3.11.0"
  },
  "orig_nbformat": 4,
  "vscode": {
   "interpreter": {
    "hash": "aee8b7b246df8f9039afb4144a1f6fd8d2ca17a180786b69acc140d282b71a49"
   }
  }
 },
 "nbformat": 4,
 "nbformat_minor": 2
}
