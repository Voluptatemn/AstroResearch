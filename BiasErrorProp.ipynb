{
 "cells": [
  {
   "cell_type": "code",
   "execution_count": 73,
   "metadata": {},
   "outputs": [],
   "source": [
    "# f = (f' - B - d * t) / med (f' - b - d * t)\n",
    "# D = D' - B\n",
    "# B = B' + Berr"
   ]
  },
  {
   "cell_type": "code",
   "execution_count": 74,
   "metadata": {},
   "outputs": [],
   "source": [
    "import numpy as np\n",
    "import matplotlib.pyplot as plt\n",
    "from scipy.optimize import curve_fit"
   ]
  },
  {
   "cell_type": "code",
   "execution_count": 75,
   "metadata": {},
   "outputs": [],
   "source": [
    "# parameters\n",
    "# gain electrons per adu\n",
    "g = 3.6\n",
    "# dimension \n",
    "row = 2048\n",
    "column = 2048\n",
    "# bias levels \n",
    "# real bias level count per pixel \n",
    "bias_real_level = 300\n",
    "# the systematic readout error on the bias\n",
    "readnoise = 5\n",
    "# assumed bias level \n",
    "# float up to factor \n",
    "factor = 2 \n",
    "bias_meas_array = np.linspace(bias_real_level/factor, bias_real_level*factor)\n",
    "# bias_meas_array = [bias_real_level]\n",
    "# dark\n",
    "# dark current elec per sec\n",
    "d = 0.05\n",
    "# time dark exposure\n",
    "td = 60\n",
    "# flat counts per pixel \n",
    "f = 10000\n",
    "# time flat exposure \n",
    "tf_array = np.linspace(3, 120)"
   ]
  },
  {
   "cell_type": "code",
   "execution_count": 76,
   "metadata": {},
   "outputs": [],
   "source": [
    "para_dict = {\n",
    "    'bias_level': 300,\n",
    "    'row': 2048,\n",
    "    'column': 2048,\n",
    "    'g': 3.6,\n",
    "    'readnoise': 5,\n",
    "    'd': 0.05,\n",
    "    'td': 60,\n",
    "    'f': 10000,\n",
    "    'tf_array': np.linspace(3, 120)   \n",
    "}"
   ]
  },
  {
   "cell_type": "code",
   "execution_count": 77,
   "metadata": {},
   "outputs": [],
   "source": [
    "# function making a bias based on a given bias input\n",
    "# normal distributed \n",
    "# output: 2d bias level in counts per pixel \n",
    "def makeBias(bias_level,size=(row,column),readnoise=5,debug=False):\n",
    "    bias = np.random.normal(bias_level, readnoise, size)\n",
    "    return bias"
   ]
  },
  {
   "cell_type": "code",
   "execution_count": 78,
   "metadata": {},
   "outputs": [],
   "source": [
    "def makeDarkCounts(td=60,d=0.05,size=(row,column),debug=False,g=3.6):\n",
    "    dark_counts = np.random.poisson(d*td, size) / g \n",
    "    return dark_counts"
   ]
  },
  {
   "cell_type": "code",
   "execution_count": 79,
   "metadata": {},
   "outputs": [],
   "source": [
    "# dark function based on a given bias input\n",
    "# possion distributed\n",
    "# output: 2d dark current in counts per sec per pixel \n",
    "def makeDark(bias_level,td=60,d=0.05,size=(row,column),debug=False,g=3.6):\n",
    "    dark = makeDarkCounts(td=td,d=d,size=size,debug=debug,g=g) + \\\n",
    "                              makeBias(bias_level,size=size,debug=debug)\n",
    "    return dark    "
   ]
  },
  {
   "cell_type": "code",
   "execution_count": 80,
   "metadata": {},
   "outputs": [],
   "source": [
    "# flat function \n",
    "# possion distributed \n",
    "# output: 2d raw flat level in counts per pixel \n",
    "def makeRawFlat(bias_level,debug=False,g=3.6,\n",
    "                f=15000,size=(row,column)):\n",
    "    flat = makeBias(bias_level) + np.random.poisson(f, size)\n",
    "    return flat"
   ]
  },
  {
   "cell_type": "code",
   "execution_count": 81,
   "metadata": {},
   "outputs": [],
   "source": [
    "# calibrated flat function \n",
    "# output: 2d calibrated flat level in counts per pixel \n",
    "def makeCaliFlat(bias, dark, raw_flat, tf=3, td=60, debug = False):\n",
    "    caliFlat = (raw_flat - dark / td * tf - bias) / np.median(raw_flat - dark / td * tf - bias)\n",
    "    return caliFlat "
   ]
  },
  {
   "cell_type": "code",
   "execution_count": 86,
   "metadata": {},
   "outputs": [
    {
     "data": {
      "text/plain": [
       "array([[0.99366475, 0.98592961, 0.99694017, ..., 0.99708539, 1.01134062,\n",
       "        1.00182432],\n",
       "       [0.99792557, 1.00321685, 1.0081114 , ..., 1.00455611, 1.00733177,\n",
       "        0.99066363],\n",
       "       [1.0001062 , 0.99872791, 0.99624666, ..., 1.00950646, 0.99289976,\n",
       "        1.00195445],\n",
       "       ...,\n",
       "       [1.00048651, 0.98870488, 1.01465238, ..., 1.00943254, 1.00168053,\n",
       "        0.99554681],\n",
       "       [1.00065689, 0.9958638 , 1.00706035, ..., 1.00395654, 1.0015149 ,\n",
       "        0.98697261],\n",
       "       [0.98367028, 0.99993319, 1.01129685, ..., 1.00342385, 0.98572056,\n",
       "        0.97919839]])"
      ]
     },
     "metadata": {},
     "output_type": "display_data"
    },
    {
     "data": {
      "text/plain": [
       "array([[0.99762493, 0.99020345, 0.99889268, ..., 0.99395608, 1.00053792,\n",
       "        1.01257547],\n",
       "       [0.99375698, 0.98941185, 1.00631922, ..., 1.01384582, 0.99948105,\n",
       "        0.9918523 ],\n",
       "       [1.00723696, 1.00830628, 0.9912916 , ..., 1.0217644 , 1.00942611,\n",
       "        0.99542352],\n",
       "       ...,\n",
       "       [1.0087556 , 1.00190736, 0.99143507, ..., 1.00190519, 1.00163902,\n",
       "        0.98867999],\n",
       "       [1.00177357, 0.9997558 , 1.0111896 , ..., 1.01006491, 0.97971713,\n",
       "        1.00916089],\n",
       "       [1.00085691, 1.00077698, 1.00381212, ..., 1.00063298, 0.98410703,\n",
       "        0.98797356]])"
      ]
     },
     "metadata": {},
     "output_type": "display_data"
    },
    {
     "data": {
      "text/plain": [
       "array([[ 3.98542997e-03,  4.33483780e-03,  1.95850333e-03, ...,\n",
       "        -3.13846050e-03, -1.06815689e-02,  1.07315695e-02],\n",
       "       [-4.17726378e-03, -1.37607340e-02, -1.77776314e-03, ...,\n",
       "         9.24756947e-03, -7.79358191e-03,  1.19986464e-03],\n",
       "       [ 7.13000439e-03,  9.59057146e-03, -4.97372101e-03, ...,\n",
       "         1.21425114e-02,  1.66445321e-02, -6.51818782e-03],\n",
       "       ...,\n",
       "       [ 8.26507505e-03,  1.33533095e-02, -2.28820309e-02, ...,\n",
       "        -7.45701073e-03, -4.14439898e-05, -6.89753245e-03],\n",
       "       [ 1.11594032e-03,  3.90816403e-03,  4.10030603e-03, ...,\n",
       "         6.08429433e-03, -2.17647954e-02,  2.24811433e-02],\n",
       "       [ 1.74719498e-02,  8.43849077e-04, -7.40112178e-03, ...,\n",
       "        -2.78134647e-03, -1.63690103e-03,  8.96158897e-03]])"
      ]
     },
     "metadata": {},
     "output_type": "display_data"
    }
   ],
   "source": [
    "bias_real = makeBias(bias_real_level)\n",
    "dark_real = makeDark(bias_real_level)\n",
    "flat_raw = makeRawFlat(bias_real_level)\n",
    "\n",
    "bias_meas = makeBias(600)\n",
    "dark_meas = makeDark(600)\n",
    "flat_meas = makeRawFlat(600)\n",
    "\n",
    "flat_real = makeCaliFlat(bias_real, dark_real, flat_raw, 120)\n",
    "flat_fake = makeCaliFlat(bias_meas, dark_meas, flat_meas, 120)\n",
    "\n",
    "display(flat_real)\n",
    "display(flat_fake)\n",
    "\n",
    "p = (flat_fake - flat_real) / flat_real\n",
    "display(p)"
   ]
  },
  {
   "cell_type": "code",
   "execution_count": 65,
   "metadata": {},
   "outputs": [],
   "source": [
    "def systematic_deviation(bias_level, time = 1, tf_array = tf_array, debug = False):\n",
    "    # see the error with same bias \n",
    "    percent_change_in_flat_array = []\n",
    "    percent_change_in_flat_array_std = []\n",
    "    tf_plot_array = []\n",
    "    for tf in tf_array:\n",
    "        percent_change_in_flat_array_storage = []\n",
    "        for i in range(time):\n",
    "            bias_real_1 = makeBias(bias_level)\n",
    "            dark_real_1 = makeDark(bias_level)\n",
    "            flat_raw_1 = makeRawFlat(bias_level, tf)\n",
    "            flat_real_1 = makeCaliFlat(bias_real_1, dark_real_1, flat_raw_1, tf)\n",
    "            bias_real = makeBias(bias_level)\n",
    "            dark_real = makeDark(bias_level)\n",
    "            flat_raw = makeRawFlat(bias_level, tf)\n",
    "            flat_real = makeCaliFlat(bias_real, dark_real, flat_raw, tf)\n",
    "            deltaf = np.abs(flat_real - flat_real_1)\n",
    "            # flat percent change in a mean form \n",
    "            percent_change_in_flat = np.mean(deltaf / flat_real_1 * 100)\n",
    "            percent_change_in_flat_array_storage.append(percent_change_in_flat)\n",
    "        mean = np.mean(percent_change_in_flat_array_storage)\n",
    "        std = np.std(percent_change_in_flat_array_storage)\n",
    "        percent_change_in_flat_array.append(mean)\n",
    "        percent_change_in_flat_array_std.append(std)\n",
    "        tf_plot_array.append(tf)\n",
    "    plt.scatter(tf_plot_array, percent_change_in_flat_array)\n",
    "    plt.errorbar(tf_plot_array, percent_change_in_flat_array,\n",
    "                yerr = percent_change_in_flat_array_std,\n",
    "                fmt ='o')\n",
    "    plt.xlabel('TF changes')\n",
    "    plt.ylabel('Flat changes perc')\n",
    "    plt.show()\n",
    "    "
   ]
  },
  {
   "cell_type": "code",
   "execution_count": 66,
   "metadata": {},
   "outputs": [
    {
     "data": {
      "image/png": "[encoded data removed]",
      "text/plain": [
       "<Figure size 640x480 with 1 Axes>"
      ]
     },
     "metadata": {},
     "output_type": "display_data"
    }
   ],
   "source": [
    "systematic_deviation(bias_real_level)"
   ]
  },
  {
   "cell_type": "code",
   "execution_count": 67,
   "metadata": {},
   "outputs": [],
   "source": [
    "def func(xy, a, b, c, d, e, f):\n",
    "    x, y = xy\n",
    "    return a + b*x + c*y + d*x**2 + e*y**2 + f*x*y"
   ]
  },
  {
   "cell_type": "code",
   "execution_count": 68,
   "metadata": {},
   "outputs": [],
   "source": [
    "def propagation(bias_real_level = bias_real_level, bias_meas_array = bias_meas_array, tf_array = tf_array, debug = False):\n",
    "    # prop storage array\n",
    "    percent_change_in_bias_array = []\n",
    "    percent_change_in_flat_array = []\n",
    "    tf_plot_array = []\n",
    "\n",
    "    # making the real bias, dark, and flat\n",
    "    bias_real = makeBias(bias_real_level)\n",
    "    dark_real = makeDark(bias_real_level)\n",
    "    flat_raw = makeRawFlat(bias_real_level)\n",
    "    flat_real_dict = {}\n",
    "    for tf in tf_array:\n",
    "        flat_real = makeCaliFlat(bias_real, dark_real, flat_raw, tf)\n",
    "        flat_real_dict[tf] = flat_real\n",
    "        \n",
    "    if debug:\n",
    "        display(flat_real_dict[tf_array[1]])\n",
    "        \n",
    "    # prop \n",
    "    for b in bias_meas_array:\n",
    "        # measured bias 2d array\n",
    "        bias_meas = makeBias(b)\n",
    "        # bias displacement\n",
    "        deltab = bias_meas - bias_real\n",
    "        # bias percent change mean\n",
    "        percent_change_in_bias = np.mean(deltab / bias_real * 100)\n",
    "        # measured dark \n",
    "        dark_meas = makeDark(b)\n",
    "        # measured raw flat in a 2d array\n",
    "        flat_raw = makeRawFlat(b)\n",
    "        for tf in tf_array:\n",
    "            # real calibrated flat in a 2d array \n",
    "            flat_real = flat_real_dict[tf]\n",
    "            # measured flat in a 2d array\n",
    "            flat_meas = makeCaliFlat(bias_meas, dark_meas, flat_raw, tf)\n",
    "            # flat displacement in a 2d \n",
    "            deltaf = np.abs(flat_meas - flat_real)\n",
    "            # flat percent change in a mean form \n",
    "            percent_change_in_flat = np.mean(deltaf / flat_real * 100)\n",
    "            percent_change_in_bias_array.append(percent_change_in_bias)\n",
    "            percent_change_in_flat_array.append(percent_change_in_flat)\n",
    "            tf_plot_array.append(tf)\n",
    "            \n",
    "    if debug:\n",
    "        ax = plt.axes(projection='3d')\n",
    "        # Adding data to our axes, 's=40' is to increase point size by 40\n",
    "        ax.scatter3D(percent_change_in_bias_array, tf_plot_array, percent_change_in_flat_array, s=1) \n",
    "        # Labelling your axes\n",
    "        ax.set_xlabel('Percent change in Bias')\n",
    "        ax.set_ylabel('Time Flat Exposure')\n",
    "        ax.set_zlabel('Percent change in Flat')\n",
    "        \n",
    "    \n",
    "    # Perform curve fitting\n",
    "    popt, pcov = curve_fit(func, (percent_change_in_bias_array, tf_plot_array), percent_change_in_flat_array)\n",
    "    \n",
    "    if debug: \n",
    "            \n",
    "        X, Y = np.meshgrid(percent_change_in_bias_array, tf_plot_array)\n",
    "        pred_flat_change = func((X, Y), *popt)\n",
    "        \n",
    "        ax = plt.axes(projection='3d')\n",
    "        # Adding data to our axes, 's=40' is to increase point size by 40\n",
    "        ax.scatter3D(percent_change_in_bias_array, tf_plot_array, percent_change_in_flat_array, s=1) \n",
    "        ax.plot_surface(X, Y, pred_flat_change, color='red', alpha=0.5)\n",
    "        # Labelling your axes\n",
    "        ax.set_xlabel('Percent change in Bias')\n",
    "        ax.set_ylabel('Time Flat Exposure')\n",
    "        ax.set_zlabel('Percent change in Flat')\n",
    "        \n",
    "    return popt, pcov\n",
    "            \n",
    "    "
   ]
  },
  {
   "cell_type": "code",
   "execution_count": 69,
   "metadata": {},
   "outputs": [
    {
     "data": {
      "text/plain": [
       "array([[1.11363136, 1.12493104, 1.1158184 , ..., 1.10695253, 1.11364152,\n",
       "        1.12172693],\n",
       "       [1.12542907, 1.12108952, 1.11590703, ..., 1.13174295, 1.12719677,\n",
       "        1.12148249],\n",
       "       [1.11347917, 1.11245705, 1.12925031, ..., 1.1287046 , 1.11836985,\n",
       "        1.12682362],\n",
       "       ...,\n",
       "       [1.12157171, 1.1223628 , 1.11542485, ..., 1.10289941, 1.11994544,\n",
       "        1.11268242],\n",
       "       [1.11737665, 1.11852562, 1.1204142 , ..., 1.12884762, 1.11771141,\n",
       "        1.13099172],\n",
       "       [1.11705894, 1.1176799 , 1.1310264 , ..., 1.11577316, 1.12160132,\n",
       "        1.12597598]])"
      ]
     },
     "metadata": {},
     "output_type": "display_data"
    },
    {
     "ename": "KeyboardInterrupt",
     "evalue": "",
     "output_type": "error",
     "traceback": [
      "\u001b[0;31m---------------------------------------------------------------------------\u001b[0m",
      "\u001b[0;31mKeyboardInterrupt\u001b[0m                         Traceback (most recent call last)",
      "Cell \u001b[0;32mIn[69], line 1\u001b[0m\n\u001b[0;32m----> 1\u001b[0m popt, pcov \u001b[39m=\u001b[39m propagation(debug \u001b[39m=\u001b[39;49m \u001b[39mTrue\u001b[39;49;00m)\n",
      "Cell \u001b[0;32mIn[68], line 37\u001b[0m, in \u001b[0;36mpropagation\u001b[0;34m(bias_real_level, bias_meas_array, tf_array, debug)\u001b[0m\n\u001b[1;32m     35\u001b[0m flat_meas \u001b[39m=\u001b[39m makeCaliFlat(bias_meas, dark_meas, flat_raw, tf)\n\u001b[1;32m     36\u001b[0m \u001b[39m# flat displacement in a 2d \u001b[39;00m\n\u001b[0;32m---> 37\u001b[0m deltaf \u001b[39m=\u001b[39m np\u001b[39m.\u001b[39;49mabs(flat_meas \u001b[39m-\u001b[39;49m flat_real)\n\u001b[1;32m     38\u001b[0m \u001b[39m# flat percent change in a mean form \u001b[39;00m\n\u001b[1;32m     39\u001b[0m percent_change_in_flat \u001b[39m=\u001b[39m np\u001b[39m.\u001b[39mmean(deltaf \u001b[39m/\u001b[39m flat_real \u001b[39m*\u001b[39m \u001b[39m100\u001b[39m)\n",
      "\u001b[0;31mKeyboardInterrupt\u001b[0m: "
     ]
    }
   ],
   "source": [
    "popt, pcov = propagation(debug = True)"
   ]
  }
 ],
 "metadata": {
  "kernelspec": {
   "display_name": "Python 3.11.0 64-bit",
   "language": "python",
   "name": "python3"
  },
  "language_info": {
   "codemirror_mode": {
    "name": "ipython",
    "version": 3
   },
   "file_extension": ".py",
   "mimetype": "text/x-python",
   "name": "python",
   "nbconvert_exporter": "python",
   "pygments_lexer": "ipython3",
   "version": "3.11.0"
  },
  "orig_nbformat": 4,
  "vscode": {
   "interpreter": {
    "hash": "aee8b7b246df8f9039afb4144a1f6fd8d2ca17a180786b69acc140d282b71a49"
   }
  }
 },
 "nbformat": 4,
 "nbformat_minor": 2
}
