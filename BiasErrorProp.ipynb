{
 "cells": [
  {
   "cell_type": "code",
   "execution_count": 27,
   "metadata": {},
   "outputs": [],
   "source": [
    "# f = (f' - B - d * t) / med (f' - b - d * t)\n",
    "# D = D' - B\n",
    "# B = B' + Berr\n",
    "# a few things to talk about \n",
    "# Getting into modeling\n",
    "# Just set up the interns "
   ]
  },
  {
   "cell_type": "code",
   "execution_count": 28,
   "metadata": {},
   "outputs": [],
   "source": [
    "import numpy as np\n",
    "import matplotlib.pyplot as plt"
   ]
  },
  {
   "cell_type": "code",
   "execution_count": 29,
   "metadata": {},
   "outputs": [
    {
     "ename": "KeyboardInterrupt",
     "evalue": "",
     "output_type": "error",
     "traceback": [
      "\u001b[0;31m---------------------------------------------------------------------------\u001b[0m",
      "\u001b[0;31mKeyboardInterrupt\u001b[0m                         Traceback (most recent call last)",
      "Cell \u001b[0;32mIn[29], line 30\u001b[0m\n\u001b[1;32m     28\u001b[0m upperFlat \u001b[39m=\u001b[39m \u001b[39m10000\u001b[39m\n\u001b[1;32m     29\u001b[0m lowerFlat \u001b[39m=\u001b[39m \u001b[39m20000\u001b[39m\n\u001b[0;32m---> 30\u001b[0m flat_raw \u001b[39m=\u001b[39m np\u001b[39m.\u001b[39marray([[np\u001b[39m.\u001b[39;49mrandom\u001b[39m.\u001b[39;49muniform(upperFlat, lowerFlat) \u001b[39mfor\u001b[39;49;00m _ \u001b[39min\u001b[39;49;00m \u001b[39mrange\u001b[39;49m(column)] \u001b[39mfor\u001b[39;49;00m _ \u001b[39min\u001b[39;49;00m \u001b[39mrange\u001b[39;49m(row)])\n\u001b[1;32m     31\u001b[0m display(flat_raw)\n\u001b[1;32m     32\u001b[0m \u001b[39m# the two arrays to store \u001b[39;00m\n",
      "Cell \u001b[0;32mIn[29], line 30\u001b[0m, in \u001b[0;36m<listcomp>\u001b[0;34m(.0)\u001b[0m\n\u001b[1;32m     28\u001b[0m upperFlat \u001b[39m=\u001b[39m \u001b[39m10000\u001b[39m\n\u001b[1;32m     29\u001b[0m lowerFlat \u001b[39m=\u001b[39m \u001b[39m20000\u001b[39m\n\u001b[0;32m---> 30\u001b[0m flat_raw \u001b[39m=\u001b[39m np\u001b[39m.\u001b[39marray([[np\u001b[39m.\u001b[39;49mrandom\u001b[39m.\u001b[39;49muniform(upperFlat, lowerFlat) \u001b[39mfor\u001b[39;49;00m _ \u001b[39min\u001b[39;49;00m \u001b[39mrange\u001b[39;49m(column)] \u001b[39mfor\u001b[39;00m _ \u001b[39min\u001b[39;00m \u001b[39mrange\u001b[39m(row)])\n\u001b[1;32m     31\u001b[0m display(flat_raw)\n\u001b[1;32m     32\u001b[0m \u001b[39m# the two arrays to store \u001b[39;00m\n",
      "Cell \u001b[0;32mIn[29], line 30\u001b[0m, in \u001b[0;36m<listcomp>\u001b[0;34m(.0)\u001b[0m\n\u001b[1;32m     28\u001b[0m upperFlat \u001b[39m=\u001b[39m \u001b[39m10000\u001b[39m\n\u001b[1;32m     29\u001b[0m lowerFlat \u001b[39m=\u001b[39m \u001b[39m20000\u001b[39m\n\u001b[0;32m---> 30\u001b[0m flat_raw \u001b[39m=\u001b[39m np\u001b[39m.\u001b[39marray([[np\u001b[39m.\u001b[39;49mrandom\u001b[39m.\u001b[39;49muniform(upperFlat, lowerFlat) \u001b[39mfor\u001b[39;00m _ \u001b[39min\u001b[39;00m \u001b[39mrange\u001b[39m(column)] \u001b[39mfor\u001b[39;00m _ \u001b[39min\u001b[39;00m \u001b[39mrange\u001b[39m(row)])\n\u001b[1;32m     31\u001b[0m display(flat_raw)\n\u001b[1;32m     32\u001b[0m \u001b[39m# the two arrays to store \u001b[39;00m\n",
      "\u001b[0;31mKeyboardInterrupt\u001b[0m: "
     ]
    }
   ],
   "source": [
    "# parameters\n",
    "# gain electrons per adu\n",
    "g = 3.5\n",
    "# dimension \n",
    "row = 2048\n",
    "column = 2048\n",
    "# bias levels \n",
    "# real bias level count per pixel \n",
    "bias_real_mean = 300\n",
    "# the systematic error on the bias\n",
    "bias_err = 1\n",
    "bias_real = np.array([[np.random.normal(bias_real_mean, bias_err) for _ in range(column)] for _ in range(row)])\n",
    "# assumed bias level float up to factor of 2 \n",
    "factor = 2 \n",
    "# all the bias meas means \n",
    "bias_meas_mean = np.linspace(bias_real_mean/factor, bias_real_mean*factor, int(bias_real_mean*factor - bias_real_mean/factor))\n",
    "# dark\n",
    "# dark current elec per sec\n",
    "d = 0.05\n",
    "# time dark exposure\n",
    "td = 60\n",
    "# real dark \n",
    "d_real = d / g - bias_real / td \n",
    "# flat\n",
    "# flat time 3 sec to 120 sec\n",
    "tf_array = np.linspace(3, 120)\n",
    "# Raw flat field frame float 10000 to 20000 per pixel\n",
    "upperFlat = 10000\n",
    "lowerFlat = 20000\n",
    "flat_raw = np.array([[np.random.uniform(upperFlat, lowerFlat) for _ in range(column)] for _ in range(row)])\n",
    "display(flat_raw)\n",
    "# the two arrays to store \n",
    "percent_change_in_bias_array = []\n",
    "percent_change_in_flat_array = []\n",
    "tf_plot_array = []\n",
    "    "
   ]
  },
  {
   "cell_type": "code",
   "execution_count": null,
   "metadata": {},
   "outputs": [],
   "source": [
    "# prop\n",
    "for b in bias_meas_mean:\n",
    "    # bias measured in a 2d form with systematic error\n",
    "    bias_meas = np.array([[np.random.normal(b, bias_err) for _ in range(column)] for _ in range(row)])\n",
    "    # bias displacement in a 2d form \n",
    "    deltab = bias_real - bias_meas\n",
    "    # bias change in a mean form\n",
    "    percent_change_in_bias = np.mean(deltab / bias_real * 100)\n",
    "    # measured dark \n",
    "    d_meas = d / g - bias_meas / td\n",
    "    # for each flat exposure time \n",
    "    for tf in tf_array:\n",
    "        # real flat in a 2d array form \n",
    "        flat_real = (flat_raw - d_real * tf - bias_real) / np.median(flat_raw - d_real * tf - bias_real)\n",
    "        # flat measured in a 2d array form\n",
    "        flat_meas = (flat_raw - d_meas * tf - bias_meas) / np.median(flat_raw - d_meas * tf - bias_meas)\n",
    "        # flat displacement in a 2d \n",
    "        deltaf = flat_real - flat_meas\n",
    "        # flat percent change in a mean form \n",
    "        percent_change_in_flat = np.mean(deltaf / flat_meas * 100)\n",
    "        percent_change_in_bias_array.append(percent_change_in_bias)\n",
    "        percent_change_in_flat_array.append(percent_change_in_flat)\n",
    "        tf_plot_array.append(tf)"
   ]
  },
  {
   "cell_type": "code",
   "execution_count": null,
   "metadata": {},
   "outputs": [],
   "source": [
    "ax = plt.axes(projection='3d')\n",
    "# Adding data to our axes, 's=40' is to increase point size by 40\n",
    "ax.scatter3D(percent_change_in_bias_array, tf_plot_array, percent_change_in_flat_array, s=20) \n",
    "\n",
    "# Labelling your axes\n",
    "ax.set_xlabel('Percent change in Bias')\n",
    "ax.set_ylabel('Time Flat Exposure')\n",
    "ax.set_zlabel('Percent change in Flat')"
   ]
  },
  {
   "cell_type": "code",
   "execution_count": null,
   "metadata": {},
   "outputs": [],
   "source": [
    "# # number of pixels in rows and columns, can change with the dimension of the CCD\n",
    "# rows = 100\n",
    "# columns = 100\n",
    "# # dark counts per second per pixel \n",
    "# dark = 2 \n",
    "# # the flactuation of flat with a 3% error\n",
    "# flatUpper = 1.03\n",
    "# flatLower = 0.97\n",
    "# # bias counts and overall bias level change\n",
    "# bias = 4000\n",
    "# biasChangeUpper = 0.2\n",
    "# biasChangeLower = 0.01\n",
    "# # integration time \n",
    "# time = 300 \n",
    "\n",
    "# # flat field randomization\n",
    "# flatField = np.matrix([[np.random.uniform(flatLower, flatUpper) for _ in range(columns)] for _ in range(rows)])"
   ]
  },
  {
   "cell_type": "code",
   "execution_count": null,
   "metadata": {},
   "outputs": [],
   "source": [
    "# #change for the bias\n",
    "# biasChange = np.linspace(biasChangeLower, biasChangeUpper)\n",
    "# # flat field propagation \n",
    "# mean_displacement = []\n",
    "# for b in biasChange:  \n",
    "#     master_bias = np.matrix([[np.random.normal(bias, bias * b) for _ in range(columns)] for _ in range(rows)])\n",
    "#     master_dark = dark * time + master_bias\n",
    "#     flat = flatField - master_dark - master_bias\n",
    "#     flat /= np.mean(flat)\n",
    "#     displacement = np.mean(np.abs((flat - flatField)) / flatField)\n",
    "#     mean_displacement.append(displacement) \n",
    "    \n",
    "# plt.plot(biasChange, mean_displacement, 'o')\n",
    "# plt.title(\"BiasPropagation\")\n",
    "# plt.xlabel('BiasChange')\n",
    "# plt.ylabel('Displacement')\n",
    "# plt.show()"
   ]
  },
  {
   "cell_type": "code",
   "execution_count": null,
   "metadata": {},
   "outputs": [],
   "source": [
    "# fit = np.polyfit(biasChange, mean_displacement,1,full=False, cov=True)\n",
    "\n",
    "# # Fit parameters are the first element in the returned \"tuple\"\n",
    "# fitparams = fit[0]\n",
    "# slope = fitparams[0]\n",
    "# intercept = fitparams[1]\n",
    "\n",
    "# # Covariance matrix is the second element in the returned \"tuple\"\n",
    "# cov = fit[1]\n",
    "\n",
    "# # This is the way you get errors out of the covariance matrix.\n",
    "# param_error = np.sqrt(np.diagonal(cov))\n",
    "# slope_error = param_error[0]\n",
    "# intercept_error = param_error[1]\n",
    "\n",
    "# slope_output = 'slope is %.3f +/- %0.3f' %(slope,slope_error)\n",
    "# intercept_output = 'intercept is %.3f +/- %0.3f' %(intercept,intercept_error)\n",
    "\n",
    "# plt.errorbar(biasChange,mean_displacement)\n",
    "# plt.xlabel('Bias')\n",
    "# plt.ylabel('Mean Displacement (flat - flatPrime) / flatPrime')\n",
    "# xfit = np.linspace(plt.xlim()[0],plt.xlim()[1],100)\n",
    "# yfit = intercept + slope*xfit\n",
    "# plt.plot(xfit,yfit,'r--', label='Linear output with ' + slope_output + intercept_output)\n",
    "# plt.legend()\n",
    "\n",
    "# print('The slope is %.3f +/- %0.3f' %(slope,slope_error))\n",
    "# print('The intercept is %.3f +/- %0.3f' %(intercept,intercept_error))\n",
    "# # plt.savefig('Updated Linear model')"
   ]
  }
 ],
 "metadata": {
  "kernelspec": {
   "display_name": "Python 3.11.0 64-bit",
   "language": "python",
   "name": "python3"
  },
  "language_info": {
   "codemirror_mode": {
    "name": "ipython",
    "version": 3
   },
   "file_extension": ".py",
   "mimetype": "text/x-python",
   "name": "python",
   "nbconvert_exporter": "python",
   "pygments_lexer": "ipython3",
   "version": "3.11.0"
  },
  "orig_nbformat": 4,
  "vscode": {
   "interpreter": {
    "hash": "aee8b7b246df8f9039afb4144a1f6fd8d2ca17a180786b69acc140d282b71a49"
   }
  }
 },
 "nbformat": 4,
 "nbformat_minor": 2
}
